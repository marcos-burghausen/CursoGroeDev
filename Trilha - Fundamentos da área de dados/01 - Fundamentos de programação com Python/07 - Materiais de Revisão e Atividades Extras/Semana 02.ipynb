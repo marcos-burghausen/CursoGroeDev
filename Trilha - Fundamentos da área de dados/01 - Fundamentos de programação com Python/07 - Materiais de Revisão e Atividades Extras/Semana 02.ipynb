{
 "cells": [
  {
   "cell_type": "markdown",
   "metadata": {},
   "source": [
    "![Growdev](https://www.growdev.com.br/assets/images/logo_growdev.png)"
   ]
  },
  {
   "cell_type": "markdown",
   "metadata": {},
   "source": [
    "# Tópicos da Aula de Hoje"
   ]
  },
  {
   "cell_type": "markdown",
   "metadata": {},
   "source": [
    "- Estruturas de Dados: Listas, Tuplas, Sets e Dicionários\n",
    "- Funcionamento e Métodos\n",
    "- Lista por Compreensão\n",
    "- Exercícios Práticos"
   ]
  },
  {
   "cell_type": "markdown",
   "metadata": {},
   "source": [
    "**Bora pra aula?**"
   ]
  },
  {
   "cell_type": "markdown",
   "metadata": {},
   "source": [
    "# Estruturas de Dados"
   ]
  },
  {
   "cell_type": "markdown",
   "metadata": {},
   "source": [
    "## Listas"
   ]
  },
  {
   "cell_type": "markdown",
   "metadata": {},
   "source": [
    "Listas são sequências de números, caracteres ou strings, separados por vírgulas e entre colchetes. As listas podem conter um mix de tipos diferentes, ou seja, você pode criar uma lista contendo strings, bools e também numéricos, embora não seja uma boa prática."
   ]
  },
  {
   "cell_type": "code",
   "execution_count": 1,
   "metadata": {},
   "outputs": [],
   "source": [
    "# Lista com números\n",
    "minha_lista_numeros = [1,2,3]"
   ]
  },
  {
   "cell_type": "code",
   "execution_count": 2,
   "metadata": {},
   "outputs": [],
   "source": [
    "# Lista com strings\n",
    "minha_lista_strings = ['São Paulo', 'Maceió', 'Belém']"
   ]
  },
  {
   "cell_type": "code",
   "execution_count": 3,
   "metadata": {},
   "outputs": [],
   "source": [
    "minha_lista_mista = ['Oi', 1, True]"
   ]
  },
  {
   "cell_type": "markdown",
   "metadata": {},
   "source": [
    "Para acessar elementos de uma lista, basta indicar o índice desejado entre colchetes\n"
   ]
  },
  {
   "cell_type": "markdown",
   "metadata": {},
   "source": [
    "<img src=\"https://www.programiz.com/sites/tutorial2program/files/python-list-index.png\">"
   ]
  },
  {
   "cell_type": "code",
   "execution_count": 4,
   "metadata": {},
   "outputs": [
    {
     "data": {
      "text/plain": [
       "1"
      ]
     },
     "execution_count": 4,
     "metadata": {},
     "output_type": "execute_result"
    }
   ],
   "source": [
    "# Acessando o elemento 0 da lista de números\n",
    "minha_lista_numeros[0]"
   ]
  },
  {
   "cell_type": "code",
   "execution_count": 5,
   "metadata": {},
   "outputs": [
    {
     "data": {
      "text/plain": [
       "2"
      ]
     },
     "execution_count": 5,
     "metadata": {},
     "output_type": "execute_result"
    }
   ],
   "source": [
    "# Acessando o elemento 1 da lista de números\n",
    "minha_lista_numeros[1]"
   ]
  },
  {
   "cell_type": "code",
   "execution_count": 6,
   "metadata": {},
   "outputs": [
    {
     "data": {
      "text/plain": [
       "3"
      ]
     },
     "execution_count": 6,
     "metadata": {},
     "output_type": "execute_result"
    }
   ],
   "source": [
    "# Índices negativos\n",
    "minha_lista_numeros[-1]"
   ]
  },
  {
   "cell_type": "code",
   "execution_count": 7,
   "metadata": {},
   "outputs": [
    {
     "data": {
      "text/plain": [
       "2"
      ]
     },
     "execution_count": 7,
     "metadata": {},
     "output_type": "execute_result"
    }
   ],
   "source": [
    "# Índices negativos\n",
    "minha_lista_numeros[-2]"
   ]
  },
  {
   "cell_type": "code",
   "execution_count": 8,
   "metadata": {},
   "outputs": [
    {
     "data": {
      "text/plain": [
       "[1, 2]"
      ]
     },
     "execution_count": 8,
     "metadata": {},
     "output_type": "execute_result"
    }
   ],
   "source": [
    "# slice de uma lista\n",
    "minha_lista_numeros[0:2]"
   ]
  },
  {
   "cell_type": "markdown",
   "metadata": {},
   "source": [
    "Quando temos uma lista só com números, podemos realizar algumas operações."
   ]
  },
  {
   "cell_type": "code",
   "execution_count": 10,
   "metadata": {},
   "outputs": [
    {
     "data": {
      "text/plain": [
       "[1, 2, 3]"
      ]
     },
     "execution_count": 10,
     "metadata": {},
     "output_type": "execute_result"
    }
   ],
   "source": [
    "minha_lista_numeros"
   ]
  },
  {
   "cell_type": "code",
   "execution_count": 9,
   "metadata": {},
   "outputs": [
    {
     "data": {
      "text/plain": [
       "6"
      ]
     },
     "execution_count": 9,
     "metadata": {},
     "output_type": "execute_result"
    }
   ],
   "source": [
    "# Soma dos elementos\n",
    "sum(minha_lista_numeros)"
   ]
  },
  {
   "cell_type": "code",
   "execution_count": 11,
   "metadata": {},
   "outputs": [
    {
     "data": {
      "text/plain": [
       "3"
      ]
     },
     "execution_count": 11,
     "metadata": {},
     "output_type": "execute_result"
    }
   ],
   "source": [
    "# Máximo da Lista\n",
    "max(minha_lista_numeros)"
   ]
  },
  {
   "cell_type": "code",
   "execution_count": 12,
   "metadata": {},
   "outputs": [
    {
     "data": {
      "text/plain": [
       "1"
      ]
     },
     "execution_count": 12,
     "metadata": {},
     "output_type": "execute_result"
    }
   ],
   "source": [
    "# Mínimo da Lista\n",
    "min(minha_lista_numeros)"
   ]
  },
  {
   "cell_type": "code",
   "execution_count": 13,
   "metadata": {},
   "outputs": [],
   "source": [
    "# Para adicionar um item a lista\n",
    "minha_lista_numeros.append(5)"
   ]
  },
  {
   "cell_type": "code",
   "execution_count": 14,
   "metadata": {},
   "outputs": [
    {
     "name": "stdout",
     "output_type": "stream",
     "text": [
      "[1, 2, 3, 5]\n"
     ]
    }
   ],
   "source": [
    "print(minha_lista_numeros)"
   ]
  },
  {
   "cell_type": "code",
   "execution_count": 15,
   "metadata": {},
   "outputs": [
    {
     "data": {
      "text/plain": [
       "4"
      ]
     },
     "execution_count": 15,
     "metadata": {},
     "output_type": "execute_result"
    }
   ],
   "source": [
    "# Para descobrir quantos elementos existem na lista\n",
    "len(minha_lista_numeros)"
   ]
  },
  {
   "cell_type": "code",
   "execution_count": 16,
   "metadata": {},
   "outputs": [
    {
     "name": "stdout",
     "output_type": "stream",
     "text": [
      "[1, 2, 3]\n"
     ]
    }
   ],
   "source": [
    "# Para remover um elemento da lista\n",
    "minha_lista_numeros.remove(5)\n",
    "print(minha_lista_numeros)"
   ]
  },
  {
   "cell_type": "code",
   "execution_count": 17,
   "metadata": {},
   "outputs": [
    {
     "data": {
      "text/plain": [
       "True"
      ]
     },
     "execution_count": 17,
     "metadata": {},
     "output_type": "execute_result"
    }
   ],
   "source": [
    "# Podemos checar se um elemento faz parte da lista \n",
    "2 in minha_lista_numeros"
   ]
  },
  {
   "cell_type": "code",
   "execution_count": 18,
   "metadata": {},
   "outputs": [
    {
     "data": {
      "text/plain": [
       "False"
      ]
     },
     "execution_count": 18,
     "metadata": {},
     "output_type": "execute_result"
    }
   ],
   "source": [
    "# Podemos checar se um elemento faz parte da lista \n",
    "'2' in minha_lista_numeros"
   ]
  },
  {
   "cell_type": "code",
   "execution_count": 19,
   "metadata": {},
   "outputs": [],
   "source": [
    "lista = ['Abner', 2]"
   ]
  },
  {
   "cell_type": "code",
   "execution_count": 20,
   "metadata": {},
   "outputs": [
    {
     "name": "stdout",
     "output_type": "stream",
     "text": [
      "['Abner', 2]\n"
     ]
    }
   ],
   "source": [
    "print(lista)"
   ]
  },
  {
   "cell_type": "markdown",
   "metadata": {},
   "source": [
    "Para mais comandos envolvendo listas e acesse: <a href=\"https://www.w3schools.com/python/python_ref_list.asp\">Clique Aqui <a/>"
   ]
  },
  {
   "cell_type": "markdown",
   "metadata": {},
   "source": [
    "Listas são mutáveis. Ou seja, podemos adicionar, remover e modificar valores.\n",
    "\n"
   ]
  },
  {
   "cell_type": "code",
   "execution_count": 21,
   "metadata": {},
   "outputs": [
    {
     "data": {
      "text/plain": [
       "[1, 2, 3]"
      ]
     },
     "execution_count": 21,
     "metadata": {},
     "output_type": "execute_result"
    }
   ],
   "source": [
    "minha_lista_numeros"
   ]
  },
  {
   "cell_type": "code",
   "execution_count": 22,
   "metadata": {},
   "outputs": [],
   "source": [
    "minha_lista_numeros[0] = 34"
   ]
  },
  {
   "cell_type": "code",
   "execution_count": 23,
   "metadata": {},
   "outputs": [
    {
     "name": "stdout",
     "output_type": "stream",
     "text": [
      "[34, 2, 3]\n"
     ]
    }
   ],
   "source": [
    "print(minha_lista_numeros)"
   ]
  },
  {
   "cell_type": "code",
   "execution_count": 24,
   "metadata": {},
   "outputs": [],
   "source": [
    "del minha_lista_numeros[1]"
   ]
  },
  {
   "cell_type": "code",
   "execution_count": 25,
   "metadata": {},
   "outputs": [
    {
     "name": "stdout",
     "output_type": "stream",
     "text": [
      "[34, 3]\n"
     ]
    }
   ],
   "source": [
    "print(minha_lista_numeros)"
   ]
  },
  {
   "cell_type": "code",
   "execution_count": 26,
   "metadata": {},
   "outputs": [],
   "source": [
    "minha_lista_numeros.append(2)"
   ]
  },
  {
   "cell_type": "code",
   "execution_count": 27,
   "metadata": {},
   "outputs": [
    {
     "data": {
      "text/plain": [
       "[34, 3, 2]"
      ]
     },
     "execution_count": 27,
     "metadata": {},
     "output_type": "execute_result"
    }
   ],
   "source": [
    "minha_lista_numeros"
   ]
  },
  {
   "cell_type": "markdown",
   "metadata": {},
   "source": [
    "### Iteração em Listas"
   ]
  },
  {
   "cell_type": "code",
   "execution_count": 28,
   "metadata": {},
   "outputs": [
    {
     "name": "stdout",
     "output_type": "stream",
     "text": [
      "0\n",
      "1\n",
      "2\n",
      "3\n",
      "4\n"
     ]
    }
   ],
   "source": [
    "for i in range(5):\n",
    "    print(i)"
   ]
  },
  {
   "cell_type": "code",
   "execution_count": 29,
   "metadata": {},
   "outputs": [
    {
     "name": "stdout",
     "output_type": "stream",
     "text": [
      "34\n",
      "3\n",
      "2\n"
     ]
    }
   ],
   "source": [
    "for elemento in minha_lista_numeros:\n",
    "    print(elemento)"
   ]
  },
  {
   "cell_type": "code",
   "execution_count": 32,
   "metadata": {},
   "outputs": [
    {
     "name": "stdout",
     "output_type": "stream",
     "text": [
      "34\n",
      "3\n",
      "2\n"
     ]
    }
   ],
   "source": [
    "for numero in minha_lista_numeros:\n",
    "    print(numero)"
   ]
  },
  {
   "cell_type": "code",
   "execution_count": 37,
   "metadata": {},
   "outputs": [
    {
     "name": "stdout",
     "output_type": "stream",
     "text": [
      "0\n",
      "34\n",
      "1\n",
      "3\n",
      "2\n",
      "2\n"
     ]
    }
   ],
   "source": [
    "for i in range(len(minha_lista_numeros)):\n",
    "    print(i)\n",
    "    print(minha_lista_numeros[i])"
   ]
  },
  {
   "cell_type": "code",
   "execution_count": 38,
   "metadata": {},
   "outputs": [
    {
     "name": "stdout",
     "output_type": "stream",
     "text": [
      "Indice: 0, Valor: 34\n",
      "Indice: 1, Valor: 3\n",
      "Indice: 2, Valor: 2\n"
     ]
    }
   ],
   "source": [
    "for i in range(len(minha_lista_numeros)): #range(2)\n",
    "    print(f'Indice: {i}, Valor: {minha_lista_numeros[i]}')"
   ]
  },
  {
   "cell_type": "code",
   "execution_count": 39,
   "metadata": {},
   "outputs": [
    {
     "name": "stdout",
     "output_type": "stream",
     "text": [
      "34\n",
      "3\n",
      "2\n"
     ]
    }
   ],
   "source": [
    "i = 0\n",
    "while i < len(minha_lista_numeros):\n",
    "    print( minha_lista_numeros[i] )\n",
    "    i += 1"
   ]
  },
  {
   "cell_type": "markdown",
   "metadata": {},
   "source": [
    "## Tuplas"
   ]
  },
  {
   "cell_type": "markdown",
   "metadata": {},
   "source": [
    "Ao contrário de listas, tuplas são imutáveis, ou seja, uma vez definidas, não podemos alterá-las. Para definir uma tupla, usamos Parênteses."
   ]
  },
  {
   "cell_type": "code",
   "execution_count": 40,
   "metadata": {},
   "outputs": [],
   "source": [
    "minha_tupla = (1, 2, 2, 2, 3, 3, 4)"
   ]
  },
  {
   "cell_type": "code",
   "execution_count": 41,
   "metadata": {},
   "outputs": [
    {
     "name": "stdout",
     "output_type": "stream",
     "text": [
      "(1, 2, 2, 2, 3, 3, 4)\n"
     ]
    }
   ],
   "source": [
    "print(minha_tupla)"
   ]
  },
  {
   "cell_type": "code",
   "execution_count": 42,
   "metadata": {},
   "outputs": [
    {
     "ename": "TypeError",
     "evalue": "'tuple' object does not support item assignment",
     "output_type": "error",
     "traceback": [
      "\u001b[0;31m---------------------------------------------------------------------------\u001b[0m",
      "\u001b[0;31mTypeError\u001b[0m                                 Traceback (most recent call last)",
      "Cell \u001b[0;32mIn[42], line 1\u001b[0m\n\u001b[0;32m----> 1\u001b[0m \u001b[43mminha_tupla\u001b[49m\u001b[43m[\u001b[49m\u001b[38;5;241;43m0\u001b[39;49m\u001b[43m]\u001b[49m \u001b[38;5;241m=\u001b[39m \u001b[38;5;241m10\u001b[39m\n",
      "\u001b[0;31mTypeError\u001b[0m: 'tuple' object does not support item assignment"
     ]
    }
   ],
   "source": [
    "minha_tupla[0] = 10"
   ]
  },
  {
   "cell_type": "code",
   "execution_count": 43,
   "metadata": {},
   "outputs": [
    {
     "data": {
      "text/plain": [
       "3"
      ]
     },
     "execution_count": 43,
     "metadata": {},
     "output_type": "execute_result"
    }
   ],
   "source": [
    "# Contar quantas vezes um elemento aparece\n",
    "minha_tupla.count(2)"
   ]
  },
  {
   "cell_type": "code",
   "execution_count": 44,
   "metadata": {},
   "outputs": [
    {
     "data": {
      "text/plain": [
       "6"
      ]
     },
     "execution_count": 44,
     "metadata": {},
     "output_type": "execute_result"
    }
   ],
   "source": [
    "# Retornar índice que contém o elemento\n",
    "minha_tupla.index(4)"
   ]
  },
  {
   "cell_type": "code",
   "execution_count": 45,
   "metadata": {},
   "outputs": [
    {
     "data": {
      "text/plain": [
       "4"
      ]
     },
     "execution_count": 45,
     "metadata": {},
     "output_type": "execute_result"
    }
   ],
   "source": [
    "minha_tupla[6]"
   ]
  },
  {
   "cell_type": "code",
   "execution_count": 47,
   "metadata": {},
   "outputs": [
    {
     "data": {
      "text/plain": [
       "list"
      ]
     },
     "execution_count": 47,
     "metadata": {},
     "output_type": "execute_result"
    }
   ],
   "source": [
    "type(list(minha_tupla))"
   ]
  },
  {
   "cell_type": "code",
   "execution_count": 48,
   "metadata": {},
   "outputs": [
    {
     "name": "stdout",
     "output_type": "stream",
     "text": [
      "1\n",
      "2\n",
      "2\n",
      "2\n",
      "3\n",
      "3\n",
      "4\n"
     ]
    }
   ],
   "source": [
    "for i in minha_tupla:\n",
    "    print(i)"
   ]
  },
  {
   "cell_type": "markdown",
   "metadata": {},
   "source": [
    "## Sets"
   ]
  },
  {
   "cell_type": "markdown",
   "metadata": {},
   "source": [
    "Conjuntos são estruturas de dados cujos elementos não se repetem. Podemos definí-los usando chaves."
   ]
  },
  {
   "cell_type": "code",
   "execution_count": 49,
   "metadata": {},
   "outputs": [],
   "source": [
    "conjunto_nomes1 = {'Luciana', 'Maria', 'Marcos'}\n",
    "conjunto_nomes2 = {'Flávia', 'Samara', 'Anderson'}"
   ]
  },
  {
   "cell_type": "code",
   "execution_count": 50,
   "metadata": {},
   "outputs": [
    {
     "data": {
      "text/plain": [
       "{'Luciana', 'Marcos', 'Maria'}"
      ]
     },
     "execution_count": 50,
     "metadata": {},
     "output_type": "execute_result"
    }
   ],
   "source": [
    "conjunto_nomes1"
   ]
  },
  {
   "cell_type": "code",
   "execution_count": 51,
   "metadata": {},
   "outputs": [
    {
     "data": {
      "text/plain": [
       "{'Anderson', 'Flávia', 'Samara'}"
      ]
     },
     "execution_count": 51,
     "metadata": {},
     "output_type": "execute_result"
    }
   ],
   "source": [
    "conjunto_nomes2"
   ]
  },
  {
   "cell_type": "code",
   "execution_count": 52,
   "metadata": {},
   "outputs": [],
   "source": [
    "# Podemos adicionar um elemento a um conjunto\n",
    "conjunto_nomes2.add('João')"
   ]
  },
  {
   "cell_type": "code",
   "execution_count": 53,
   "metadata": {},
   "outputs": [
    {
     "data": {
      "text/plain": [
       "{'Anderson', 'Flávia', 'João', 'Samara'}"
      ]
     },
     "execution_count": 53,
     "metadata": {},
     "output_type": "execute_result"
    }
   ],
   "source": [
    "conjunto_nomes2"
   ]
  },
  {
   "cell_type": "code",
   "execution_count": 54,
   "metadata": {},
   "outputs": [],
   "source": [
    "conjunto_nomes2.add('Anderson')"
   ]
  },
  {
   "cell_type": "code",
   "execution_count": 55,
   "metadata": {},
   "outputs": [
    {
     "data": {
      "text/plain": [
       "{'Anderson', 'Flávia', 'João', 'Samara'}"
      ]
     },
     "execution_count": 55,
     "metadata": {},
     "output_type": "execute_result"
    }
   ],
   "source": [
    "conjunto_nomes2"
   ]
  },
  {
   "cell_type": "code",
   "execution_count": 56,
   "metadata": {},
   "outputs": [
    {
     "data": {
      "text/plain": [
       "{'Anderson', 'Flávia', 'João', 'Marcos', 'Samara'}"
      ]
     },
     "execution_count": 56,
     "metadata": {},
     "output_type": "execute_result"
    }
   ],
   "source": [
    "conjunto_nomes2.add('Marcos')\n",
    "conjunto_nomes2"
   ]
  },
  {
   "cell_type": "code",
   "execution_count": 57,
   "metadata": {},
   "outputs": [
    {
     "data": {
      "text/plain": [
       "{'Luciana', 'Marcos', 'Maria'}"
      ]
     },
     "execution_count": 57,
     "metadata": {},
     "output_type": "execute_result"
    }
   ],
   "source": [
    "conjunto_nomes1"
   ]
  },
  {
   "cell_type": "code",
   "execution_count": 58,
   "metadata": {},
   "outputs": [
    {
     "name": "stdout",
     "output_type": "stream",
     "text": [
      "{'Anderson', 'Marcos', 'Maria', 'Flávia', 'Samara', 'João', 'Luciana'}\n"
     ]
    }
   ],
   "source": [
    "# Podemos Unir os dois conjuntos\n",
    "conjunto_uniao = conjunto_nomes1.union(conjunto_nomes2)\n",
    "print(conjunto_uniao)"
   ]
  },
  {
   "cell_type": "markdown",
   "metadata": {},
   "source": [
    "**Atenção:** \n",
    "Note que tínhamos 2 marcos, um no conjunto 1 e outro no conjunto 2, agora só temos 1!\n",
    "Por que isso aconteceu?"
   ]
  },
  {
   "cell_type": "code",
   "execution_count": 59,
   "metadata": {},
   "outputs": [
    {
     "name": "stdout",
     "output_type": "stream",
     "text": [
      "{'Luciana', 'Maria'}\n"
     ]
    }
   ],
   "source": [
    "# Podemos subtrair conjuntos\n",
    "conjunto_subtracao = conjunto_nomes1.difference(conjunto_nomes2)\n",
    "print(conjunto_subtracao)"
   ]
  },
  {
   "cell_type": "code",
   "execution_count": 63,
   "metadata": {},
   "outputs": [
    {
     "data": {
      "text/plain": [
       "['maria', 'joão']"
      ]
     },
     "execution_count": 63,
     "metadata": {},
     "output_type": "execute_result"
    }
   ],
   "source": [
    "list(set(['joão', 'joão', 'joão', 'joão', 'joão', 'joão', 'joão', 'joão', 'joão', 'joão', 'maria']))"
   ]
  },
  {
   "cell_type": "markdown",
   "metadata": {},
   "source": [
    "Itens do conjunto 2 são removidos do conjunto 1."
   ]
  },
  {
   "cell_type": "code",
   "execution_count": 60,
   "metadata": {},
   "outputs": [
    {
     "name": "stdout",
     "output_type": "stream",
     "text": [
      "{'Marcos'}\n"
     ]
    }
   ],
   "source": [
    "# Podemos encontrar a intersecção dos conjuntos\n",
    "conjunto_interseccao = conjunto_nomes1.intersection(conjunto_nomes2)\n",
    "print(conjunto_interseccao)"
   ]
  },
  {
   "cell_type": "markdown",
   "metadata": {},
   "source": [
    "Para mais comandos envolvendo conjuntos e acesse: <a href=\"https://www.w3schools.com/python/python_ref_set.asp\">Clique Aqui <a/>"
   ]
  },
  {
   "cell_type": "markdown",
   "metadata": {},
   "source": [
    "## Dicionários"
   ]
  },
  {
   "cell_type": "markdown",
   "metadata": {},
   "source": [
    "Dicionários são estruturas constituídas de chave-valor. Assim como os conjuntos, não são ordenados, mas são mutáveis Para consultar os dados informamos as chaves."
   ]
  },
  {
   "cell_type": "markdown",
   "metadata": {},
   "source": [
    "<img src=\"https://www.learnbyexample.org/wp-content/uploads/python/Dictionary-Key-Value-Pairs-Illustration.png\">"
   ]
  },
  {
   "cell_type": "markdown",
   "metadata": {},
   "source": [
    "Para definir um dicionário, o método mais simples é utilizando chaves. As chaves do dicionário ficam do lado esquerdo e o valor do lado direito."
   ]
  },
  {
   "cell_type": "code",
   "execution_count": 64,
   "metadata": {},
   "outputs": [],
   "source": [
    "# Exemplo\n",
    "notas_alunos = {\n",
    "    \"Bruno\": 4.5, \n",
    "    \"Mauricio\": 8.7, \n",
    "    \"Jéssica\": 6.5,\n",
    "    \"Mariana\": 7.4\n",
    "}"
   ]
  },
  {
   "cell_type": "code",
   "execution_count": 65,
   "metadata": {},
   "outputs": [
    {
     "data": {
      "text/plain": [
       "4.5"
      ]
     },
     "execution_count": 65,
     "metadata": {},
     "output_type": "execute_result"
    }
   ],
   "source": [
    "notas_alunos['Bruno']"
   ]
  },
  {
   "cell_type": "code",
   "execution_count": 66,
   "metadata": {},
   "outputs": [
    {
     "name": "stdout",
     "output_type": "stream",
     "text": [
      "4.5\n"
     ]
    }
   ],
   "source": [
    "# Para consultar o dicionário\n",
    "print(notas_alunos['Bruno'])"
   ]
  },
  {
   "cell_type": "code",
   "execution_count": 67,
   "metadata": {},
   "outputs": [
    {
     "name": "stdout",
     "output_type": "stream",
     "text": [
      "8.7\n"
     ]
    }
   ],
   "source": [
    "print(notas_alunos['Mauricio'])"
   ]
  },
  {
   "cell_type": "code",
   "execution_count": 68,
   "metadata": {},
   "outputs": [
    {
     "data": {
      "text/plain": [
       "dict_keys(['Bruno', 'Mauricio', 'Jéssica', 'Mariana'])"
      ]
     },
     "execution_count": 68,
     "metadata": {},
     "output_type": "execute_result"
    }
   ],
   "source": [
    "# Podemos consultar as chaves\n",
    "notas_alunos.keys()"
   ]
  },
  {
   "cell_type": "code",
   "execution_count": 69,
   "metadata": {},
   "outputs": [
    {
     "data": {
      "text/plain": [
       "dict_values([4.5, 8.7, 6.5, 7.4])"
      ]
     },
     "execution_count": 69,
     "metadata": {},
     "output_type": "execute_result"
    }
   ],
   "source": [
    "# Podemos consultar os valores\n",
    "notas_alunos.values()"
   ]
  },
  {
   "cell_type": "code",
   "execution_count": 74,
   "metadata": {},
   "outputs": [
    {
     "name": "stdout",
     "output_type": "stream",
     "text": [
      "O aluno Bruno está reprovado\n",
      "O aluno Mauricio está aprovado\n",
      "O aluno Jéssica está reprovado\n",
      "O aluno Mariana está aprovado\n"
     ]
    }
   ],
   "source": [
    "for chave in notas_alunos.keys():\n",
    "    # print(f'A nota do(a) aluno(a) {chave} foi {notas_alunos[chave]}')\n",
    "    if notas_alunos[chave] >= 7:\n",
    "        print(f'O aluno {chave} está aprovado')\n",
    "    else:\n",
    "        print(f'O aluno {chave} está reprovado')"
   ]
  },
  {
   "cell_type": "markdown",
   "metadata": {},
   "source": [
    "## Resumo"
   ]
  },
  {
   "cell_type": "markdown",
   "metadata": {},
   "source": [
    "As estruturas de dados são formas de organizar e armazenar dados em Python:\n",
    "- **Listas:** são coleções ordenadas de elementos mutáveis.\n",
    "- **Tuplas:** são sequências imutáveis de elementos.\n",
    "- **Sets:** são coleções não ordenadas de elementos únicos.\n",
    "- **Dicionários:** são coleções associativas de pares chave-valor."
   ]
  },
  {
   "cell_type": "markdown",
   "metadata": {},
   "source": [
    "Características de cada uma dessas estruturas:\n",
    "- **Listas:** mutáveis, ordenadas, permitem elementos duplicados.\n",
    "- **Tuplas:** imutáveis, ordenadas, podem conter elementos de diferentes tipos.\n",
    "- **Sets:** mutáveis, não ordenados, não permitem elementos duplicados.\n",
    "- **Dicionários:** mutáveis, não ordenados, associam chaves a valores únicos."
   ]
  },
  {
   "cell_type": "markdown",
   "metadata": {},
   "source": [
    "# Funcionamento e Métodos"
   ]
  },
  {
   "cell_type": "markdown",
   "metadata": {},
   "source": [
    "Alguns dos métodos nós já vimos, porém existem outros:\n",
    "\n",
    "- **Listas:** [Métodos de Listas](https://www.w3schools.com/python/python_lists_methods.asp)\n",
    "- **Tuplas:** [Métodos de Tuplas](https://www.w3schools.com/python/python_ref_tuple.asp)\n",
    "- **Sets:** [Métodos de Sets](https://www.w3schools.com/python/python_ref_set.asp)\n",
    "- **Dicionários:** [Métodos de Dicionários](https://www.w3schools.com/python/python_ref_dictionary.asp)\n"
   ]
  },
  {
   "cell_type": "code",
   "execution_count": 75,
   "metadata": {},
   "outputs": [
    {
     "name": "stdout",
     "output_type": "stream",
     "text": [
      "Lista ordenada: [1, 2, 3]\n"
     ]
    }
   ],
   "source": [
    "# Exemplo: Utilizando métodos de listas\n",
    "lista = [3, 2, 1]\n",
    "lista.sort()\n",
    "print(\"Lista ordenada:\", lista)"
   ]
  },
  {
   "cell_type": "code",
   "execution_count": 76,
   "metadata": {},
   "outputs": [
    {
     "name": "stdout",
     "output_type": "stream",
     "text": [
      "Índice do elemento 2: 1\n",
      "Quantidade de elementos igual a 2: 1\n"
     ]
    }
   ],
   "source": [
    "# Exemplo: Utilizando métodos de tuplas\n",
    "tupla = (1, 2, 3)\n",
    "print(\"Índice do elemento 2:\", tupla.index(2))\n",
    "print(\"Quantidade de elementos igual a 2:\", tupla.count(2))"
   ]
  },
  {
   "cell_type": "code",
   "execution_count": 77,
   "metadata": {},
   "outputs": [
    {
     "name": "stdout",
     "output_type": "stream",
     "text": [
      "Set após adicionar o elemento 4: {1, 2, 3, 4}\n"
     ]
    }
   ],
   "source": [
    "# Exemplo: Utilizando métodos de sets\n",
    "conjunto = {1, 2, 3}\n",
    "conjunto.add(4)\n",
    "print(\"Set após adicionar o elemento 4:\", conjunto)"
   ]
  },
  {
   "cell_type": "code",
   "execution_count": 78,
   "metadata": {},
   "outputs": [
    {
     "name": "stdout",
     "output_type": "stream",
     "text": [
      "Valor associado à chave 'b': 2\n"
     ]
    }
   ],
   "source": [
    "# Exemplo: Utilizando métodos de dicionários\n",
    "dicionario = {\"a\": 1, \"b\": 2, \"c\": 3}\n",
    "print(\"Valor associado à chave 'b':\", dicionario.get(\"b\"))"
   ]
  },
  {
   "cell_type": "code",
   "execution_count": 80,
   "metadata": {},
   "outputs": [
    {
     "ename": "KeyError",
     "evalue": "'d'",
     "output_type": "error",
     "traceback": [
      "\u001b[0;31m---------------------------------------------------------------------------\u001b[0m",
      "\u001b[0;31mKeyError\u001b[0m                                  Traceback (most recent call last)",
      "Cell \u001b[0;32mIn[80], line 1\u001b[0m\n\u001b[0;32m----> 1\u001b[0m \u001b[43mdicionario\u001b[49m\u001b[43m[\u001b[49m\u001b[38;5;124;43m'\u001b[39;49m\u001b[38;5;124;43md\u001b[39;49m\u001b[38;5;124;43m'\u001b[39;49m\u001b[43m]\u001b[49m\n",
      "\u001b[0;31mKeyError\u001b[0m: 'd'"
     ]
    }
   ],
   "source": [
    "dicionario['d']"
   ]
  },
  {
   "cell_type": "code",
   "execution_count": 82,
   "metadata": {},
   "outputs": [
    {
     "data": {
      "text/plain": [
       "'Chave não encontrada'"
      ]
     },
     "execution_count": 82,
     "metadata": {},
     "output_type": "execute_result"
    }
   ],
   "source": [
    "dicionario.get(\"d\", \"Chave não encontrada\")"
   ]
  },
  {
   "cell_type": "markdown",
   "metadata": {},
   "source": [
    "# Listas por Compreensão"
   ]
  },
  {
   "cell_type": "markdown",
   "metadata": {},
   "source": [
    "Listas por compreensão são uma forma concisa de criar listas em Python. Em inglês, list comprehension"
   ]
  },
  {
   "cell_type": "code",
   "execution_count": 85,
   "metadata": {},
   "outputs": [
    {
     "name": "stdout",
     "output_type": "stream",
     "text": [
      "[1, 4, 9, 16, 25]\n"
     ]
    }
   ],
   "source": [
    "lista = []\n",
    "for i in range(1, 6):\n",
    "    lista.append(i**2)\n",
    "\n",
    "print(lista)"
   ]
  },
  {
   "cell_type": "code",
   "execution_count": 87,
   "metadata": {},
   "outputs": [
    {
     "name": "stdout",
     "output_type": "stream",
     "text": [
      "[1, 4, 9, 16, 25]\n"
     ]
    }
   ],
   "source": [
    "lista = [i**2 for i in range(1,6)]\n",
    "\n",
    "print(lista)"
   ]
  },
  {
   "cell_type": "code",
   "execution_count": 88,
   "metadata": {},
   "outputs": [],
   "source": [
    "quadrados = [numero**2 for numero in range(1, 6)]"
   ]
  },
  {
   "cell_type": "code",
   "execution_count": 89,
   "metadata": {},
   "outputs": [
    {
     "name": "stdout",
     "output_type": "stream",
     "text": [
      "[1, 4, 9, 16, 25]\n"
     ]
    }
   ],
   "source": [
    "print(quadrados)"
   ]
  },
  {
   "cell_type": "code",
   "execution_count": 93,
   "metadata": {},
   "outputs": [
    {
     "data": {
      "text/plain": [
       "[2, 4, 6, 8, 10]"
      ]
     },
     "execution_count": 93,
     "metadata": {},
     "output_type": "execute_result"
    }
   ],
   "source": [
    "numeros = [1, 2, 3, 4, 5, 6, 7, 8, 9, 10]\n",
    "pares = []\n",
    "\n",
    "for num in numeros:\n",
    "    if num%2==0:\n",
    "        pares.append(num)\n",
    "\n",
    "pares"
   ]
  },
  {
   "cell_type": "code",
   "execution_count": 94,
   "metadata": {},
   "outputs": [
    {
     "name": "stdout",
     "output_type": "stream",
     "text": [
      "[2, 4, 6, 8, 10]\n"
     ]
    }
   ],
   "source": [
    "# Exemplo: Filtrando números pares de uma lista\n",
    "numeros = [1, 2, 3, 4, 5, 6, 7, 8, 9, 10]\n",
    "pares = [x for x in numeros if x % 2 == 0]\n",
    "print(pares)"
   ]
  },
  {
   "cell_type": "code",
   "execution_count": 96,
   "metadata": {},
   "outputs": [
    {
     "data": {
      "text/plain": [
       "[(0, 0), (0, 1), (0, 2), (1, 0), (1, 1), (1, 2), (2, 0), (2, 1), (2, 2)]"
      ]
     },
     "execution_count": 96,
     "metadata": {},
     "output_type": "execute_result"
    }
   ],
   "source": [
    "coordenadas = []\n",
    "for x in range(3):\n",
    "    for y in range(3):\n",
    "        coordenadas.append((x,y))\n",
    "\n",
    "coordenadas"
   ]
  },
  {
   "cell_type": "code",
   "execution_count": 95,
   "metadata": {},
   "outputs": [
    {
     "name": "stdout",
     "output_type": "stream",
     "text": [
      "[(0, 0), (0, 1), (0, 2), (1, 0), (1, 1), (1, 2), (2, 0), (2, 1), (2, 2)]\n"
     ]
    }
   ],
   "source": [
    "# Exemplo: Criando uma lista de pares de coordenadas\n",
    "coordenadas = [(x, y) for x in range(3) for y in range(3)]\n",
    "print(coordenadas)"
   ]
  },
  {
   "cell_type": "code",
   "execution_count": 97,
   "metadata": {},
   "outputs": [
    {
     "name": "stdout",
     "output_type": "stream",
     "text": [
      "['maçã', 'banana', 'morango', 'manga', 'melancia', 'laranja', 'tangerina']\n"
     ]
    }
   ],
   "source": [
    "# Exemplo: Frutas que contenham a letra \"a\"\n",
    "frutas = [\"maçã\", \"banana\", \"morango\", \"kiwi\", \"manga\", \"melancia\", \"laranja\", \"tangerina\"]\n",
    "frutas2 = [x for x in frutas if \"a\" in x]\n",
    "print(frutas2)"
   ]
  },
  {
   "cell_type": "markdown",
   "metadata": {},
   "source": [
    "# Exercícios Práticos"
   ]
  },
  {
   "cell_type": "markdown",
   "metadata": {},
   "source": [
    "**Escreva um programa que receba uma lista e remova os elementos duplicados, mantendo apenas um de cada valor.**"
   ]
  },
  {
   "cell_type": "code",
   "execution_count": 99,
   "metadata": {},
   "outputs": [
    {
     "data": {
      "text/plain": [
       "[1, 2, 3, 4, 5]"
      ]
     },
     "execution_count": 99,
     "metadata": {},
     "output_type": "execute_result"
    }
   ],
   "source": [
    "lista = [1, 2, 2, 3, 3, 3, 4, 4, 5]\n",
    "lista_sem_duplicados = []\n",
    "\n",
    "for item in lista:\n",
    "    if item not in lista_sem_duplicados:\n",
    "        lista_sem_duplicados.append(item)\n",
    "\n",
    "lista_sem_duplicados"
   ]
  },
  {
   "cell_type": "code",
   "execution_count": 100,
   "metadata": {},
   "outputs": [
    {
     "data": {
      "text/plain": [
       "[1, 2, 3, 4, 5]"
      ]
     },
     "execution_count": 100,
     "metadata": {},
     "output_type": "execute_result"
    }
   ],
   "source": [
    "lista_sem_duplicados = list(set(lista))\n",
    "lista_sem_duplicados"
   ]
  },
  {
   "cell_type": "markdown",
   "metadata": {},
   "source": [
    "**Escreva um programa que verifique se uma lista é um subconjunto de outra lista. Ou seja, se todos os elementos da primeira lista estão presentes na segunda lista.**"
   ]
  },
  {
   "cell_type": "code",
   "execution_count": 117,
   "metadata": {},
   "outputs": [
    {
     "data": {
      "text/plain": [
       "True"
      ]
     },
     "execution_count": 117,
     "metadata": {},
     "output_type": "execute_result"
    }
   ],
   "source": [
    "lista_menor = [1, 2, 3]\n",
    "lista_maior = [1, 2, 3, 4, 5]\n",
    "subconjunto = True\n",
    "\n",
    "for elemento in lista_menor:\n",
    "    # print(elemento)\n",
    "    if elemento not in lista_maior:\n",
    "        print(elemento)\n",
    "        subconjunto = False\n",
    "\n",
    "subconjunto"
   ]
  },
  {
   "cell_type": "code",
   "execution_count": 119,
   "metadata": {},
   "outputs": [
    {
     "data": {
      "text/plain": [
       "True"
      ]
     },
     "execution_count": 119,
     "metadata": {},
     "output_type": "execute_result"
    }
   ],
   "source": [
    "lista1 = ['6']\n",
    "lista2 = ['1','2','3','4','5','6']\n",
    "\n",
    "set1 = set(lista1)\n",
    "set2 = set(lista2)\n",
    "\n",
    "set1.issubset(set2)"
   ]
  },
  {
   "cell_type": "markdown",
   "metadata": {},
   "source": [
    "**Escreva um programa que receba uma frase como entrada e conte quantas vezes cada palavra aparece na frase. O programa deve imprimir um dicionário onde as chaves são as palavras e os valores são a contagem de vezes que cada palavra aparece.**"
   ]
  },
  {
   "cell_type": "code",
   "execution_count": 120,
   "metadata": {},
   "outputs": [
    {
     "data": {
      "text/plain": [
       "['M',\n",
       " 'e',\n",
       " 'u',\n",
       " ' ',\n",
       " 'n',\n",
       " 'o',\n",
       " 'm',\n",
       " 'e',\n",
       " ' ',\n",
       " 'é',\n",
       " ' ',\n",
       " 'T',\n",
       " 'h',\n",
       " 'i',\n",
       " 'a',\n",
       " 'g',\n",
       " 'o']"
      ]
     },
     "execution_count": 120,
     "metadata": {},
     "output_type": "execute_result"
    }
   ],
   "source": [
    "list('Meu nome é Thiago')"
   ]
  },
  {
   "cell_type": "code",
   "execution_count": 128,
   "metadata": {},
   "outputs": [
    {
     "name": "stdout",
     "output_type": "stream",
     "text": [
      "Contagem de palavras: {'o': 1, 'rato': 1, 'roeu': 1, 'a': 1, 'roupa': 1, 'do': 1, 'rei': 1, 'de': 1, 'roma': 1}\n"
     ]
    }
   ],
   "source": [
    "frase = \"O rato roeu a roupa do rei de Roma\"\n",
    "# palavras = [x.lower() for x in list(\"O rato roeu a roupa do rei de Roma\")]\n",
    "palavras = frase.lower().split()\n",
    "# palavras = list(frase.lower())\n",
    "contagem = {}\n",
    "\n",
    "for palavra in palavras:\n",
    "    if palavra in contagem:\n",
    "        contagem[palavra] += 1\n",
    "    else:\n",
    "        contagem[palavra] = 1\n",
    "\n",
    "print(\"Contagem de palavras:\", contagem)"
   ]
  },
  {
   "cell_type": "markdown",
   "metadata": {},
   "source": [
    "## Desafio"
   ]
  },
  {
   "cell_type": "markdown",
   "metadata": {},
   "source": [
    "Use o dicionário de notas e retorne o nome dos alunos que irão ser aprovados, reprovados e os que vão ficar de recuperação. Considere a média para ser aprovado como 6.0"
   ]
  },
  {
   "cell_type": "code",
   "execution_count": 108,
   "metadata": {},
   "outputs": [],
   "source": [
    "notas_alunos = {\"Bruno\": 4.5, \"Mauricio\": 8.7, \"Jéssica\": 5.5, \"Mariana\": 7.4, \"Thiago\": 2.0, \"Luiz\": 8.7, \"Maria\": 6.0}"
   ]
  },
  {
   "cell_type": "code",
   "execution_count": 129,
   "metadata": {},
   "outputs": [
    {
     "data": {
      "text/plain": [
       "dict_items([('Bruno', 4.5), ('Mauricio', 8.7), ('Jéssica', 5.5), ('Mariana', 7.4), ('Thiago', 2.0), ('Luiz', 8.7), ('Maria', 6.0)])"
      ]
     },
     "execution_count": 129,
     "metadata": {},
     "output_type": "execute_result"
    }
   ],
   "source": [
    "notas_alunos.items()"
   ]
  },
  {
   "cell_type": "code",
   "execution_count": 132,
   "metadata": {},
   "outputs": [
    {
     "name": "stdout",
     "output_type": "stream",
     "text": [
      "4.5\n",
      "8.7\n",
      "5.5\n",
      "7.4\n",
      "2.0\n",
      "8.7\n",
      "6.0\n"
     ]
    }
   ],
   "source": [
    "for key in notas_alunos.keys():\n",
    "    aluno = key\n",
    "    nota = notas_alunos[key]\n",
    "    if nota >= 6.0:\n",
    "        aprovados.append(aluno)"
   ]
  },
  {
   "cell_type": "code",
   "execution_count": 109,
   "metadata": {},
   "outputs": [],
   "source": [
    "aprovados = []\n",
    "recuperacao = []\n",
    "reprovados = []\n",
    "\n",
    "for aluno, nota in notas_alunos.items():\n",
    "    if nota >= 6.0:\n",
    "        aprovados.append(aluno)\n",
    "    elif nota >= 4.0:\n",
    "        recuperacao.append(aluno)\n",
    "    else:\n",
    "        reprovados.append(aluno)"
   ]
  },
  {
   "cell_type": "code",
   "execution_count": 111,
   "metadata": {},
   "outputs": [
    {
     "name": "stdout",
     "output_type": "stream",
     "text": [
      "\n",
      "Resultado final:\n",
      "Aprovados: ['Mauricio', 'Mariana', 'Luiz', 'Maria']\n",
      "Recuperação: ['Bruno', 'Jéssica']\n",
      "Reprovados: ['Thiago']\n"
     ]
    }
   ],
   "source": [
    "print(\"\\nResultado final:\")\n",
    "print(f\"Aprovados: {aprovados}\")\n",
    "print(f\"Recuperação: {recuperacao}\")\n",
    "print(f\"Reprovados: {reprovados}\")"
   ]
  }
 ],
 "metadata": {
  "kernelspec": {
   "display_name": "base",
   "language": "python",
   "name": "python3"
  },
  "language_info": {
   "codemirror_mode": {
    "name": "ipython",
    "version": 3
   },
   "file_extension": ".py",
   "mimetype": "text/x-python",
   "name": "python",
   "nbconvert_exporter": "python",
   "pygments_lexer": "ipython3",
   "version": "3.10.9"
  }
 },
 "nbformat": 4,
 "nbformat_minor": 2
}
