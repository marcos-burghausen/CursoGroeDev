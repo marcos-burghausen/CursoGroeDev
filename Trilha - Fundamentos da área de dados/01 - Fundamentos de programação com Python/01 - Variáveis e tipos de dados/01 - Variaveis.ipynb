{
 "cells": [
  {
   "cell_type": "markdown",
   "metadata": {
    "id": "78sOkR5e_DRH"
   },
   "source": [
    "![Growdev](https://www.growdev.com.br/assets/images/logo_growdev.png)"
   ]
  },
  {
   "cell_type": "markdown",
   "metadata": {
    "id": "sgz39YX4_DRR"
   },
   "source": [
    "# Tópicos da Aula de Hoje"
   ]
  },
  {
   "cell_type": "code",
   "execution_count": null,
   "metadata": {},
   "outputs": [],
   "source": []
  },
  {
   "cell_type": "markdown",
   "metadata": {
    "id": "Op-nqfBC_DRS"
   },
   "source": [
    "- Variáveis"
   ]
  },
  {
   "cell_type": "markdown",
   "metadata": {
    "id": "6Qp9Ey_N_DRT"
   },
   "source": [
    "**Bora pra aula?**"
   ]
  },
  {
   "cell_type": "markdown",
   "metadata": {
    "id": "UmwuEVpF_DRU"
   },
   "source": [
    "# Variáveis"
   ]
  },
  {
   "cell_type": "markdown",
   "metadata": {
    "id": "wMVC59na_DRV"
   },
   "source": [
    "Em Python, as variáveis são usadas para armazenar dados. Uma variável é um objeto que guarda um valor e armazena esse valor na memória do computador durante o tempo de desenvolvimento.\n",
    "\n",
    "Elas não precisam ser declaradas com um tipo específico e o tipo é inferido automaticamente. Além disso, temos o conceito de tipagem é dinâmica, o que significa que você pode reatribuir a mesma variável para diferentes tipos de dados.\n",
    "\n",
    "Podemos inicializar uma variável por meio do comando de atribuição '='."
   ]
  },
  {
   "cell_type": "markdown",
   "metadata": {
    "id": "HXaEkDqzwHRB"
   },
   "source": [
    "![alt text](Precos_memorias_DDR4_DDR5_Queda.jpg)"
   ]
  },
  {
   "cell_type": "code",
   "execution_count": null,
   "metadata": {
    "id": "3mswp-RH_DRW"
   },
   "outputs": [],
   "source": [
    "# podemos definir uma variável dando um nome\n",
    "ano = 2020 "
   ]
  },
  {
   "cell_type": "code",
   "execution_count": null,
   "metadata": {
    "id": "j7UghJ-kwHRD",
    "outputId": "a6da2200-5d15-4180-c4f1-7c1a22e87dbd"
   },
   "outputs": [
    {
     "data": {
      "text/plain": [
       "2021"
      ]
     },
     "execution_count": 6,
     "metadata": {},
     "output_type": "execute_result"
    }
   ],
   "source": [
    "ano"
   ]
  },
  {
   "cell_type": "code",
   "execution_count": null,
   "metadata": {
    "id": "enaDpYucwHRE"
   },
   "outputs": [],
   "source": [
    "ano = 2021"
   ]
  },
  {
   "cell_type": "code",
   "execution_count": null,
   "metadata": {
    "id": "MquaZXluwHRE",
    "outputId": "68a9be8e-d6fe-45f0-f763-1c6e40b6c1c2"
   },
   "outputs": [
    {
     "data": {
      "text/plain": [
       "2021"
      ]
     },
     "execution_count": 5,
     "metadata": {},
     "output_type": "execute_result"
    }
   ],
   "source": [
    "ano"
   ]
  },
  {
   "cell_type": "markdown",
   "metadata": {
    "id": "DpkFmhy2_DRa"
   },
   "source": [
    "Ao utilizarmos variáveis, em vez de simplesmente escrever o valor que desejamos, a variável nos traz a vantagem de ser, como o próprio nome já diz, variável. Dessa forma, podemos modificar a variável nos momentos que acharmos necessários.\n",
    "\n",
    "Em um código longo, se você utiliza o mesmo valor em diversas operações, é interessante que você o armazene como uma variável. Dessa maneira, caso você precise trocar o valor desejado, basta apenas mudá-lo uma única vez."
   ]
  },
  {
   "cell_type": "code",
   "execution_count": null,
   "metadata": {
    "id": "XUtr8UQl_DRb"
   },
   "outputs": [],
   "source": [
    "idade = 23\n",
    "print(idade)\n",
    "idade = 24\n",
    "print(idade)"
   ]
  },
  {
   "cell_type": "markdown",
   "metadata": {
    "id": "PW8DrYBb_DRc"
   },
   "source": [
    "**ATENÇÃO:**\n",
    "* Nomes compostos de variáveis são separados por _. Esse método de nomeação é conhecido como snake case.\n",
    "* Nomes não podem começar com números, porém podem conter números\n",
    "* Se sua variável foi criada para armazenar um valor específico e que não muda, utilizamos letras maiúsculas (são as chamadas constantes)."
   ]
  },
  {
   "cell_type": "code",
   "execution_count": null,
   "metadata": {
    "id": "UNA1_yK5_DRc"
   },
   "outputs": [],
   "source": [
    "# snake case\n",
    "idade_pai = 60\n",
    "idade_filho = 30\n",
    "paises_visitados = 90"
   ]
  },
  {
   "cell_type": "code",
   "execution_count": null,
   "metadata": {
    "id": "jktzN087wHRG",
    "outputId": "edd03766-d4a6-4274-9acb-6e7fc9c084f5"
   },
   "outputs": [
    {
     "data": {
      "text/plain": [
       "60"
      ]
     },
     "execution_count": 8,
     "metadata": {},
     "output_type": "execute_result"
    }
   ],
   "source": [
    "idade_pai"
   ]
  },
  {
   "cell_type": "code",
   "execution_count": null,
   "metadata": {
    "id": "O87tIGB3wHRG",
    "outputId": "2e757a88-17bf-4e9d-b24c-8e66a303fd87"
   },
   "outputs": [
    {
     "data": {
      "text/plain": [
       "30"
      ]
     },
     "execution_count": 9,
     "metadata": {},
     "output_type": "execute_result"
    }
   ],
   "source": [
    "idade_filho"
   ]
  },
  {
   "cell_type": "code",
   "execution_count": null,
   "metadata": {
    "id": "E80wWCnK_DRd"
   },
   "outputs": [],
   "source": [
    "# Constantes\n",
    "PI = 3.14159"
   ]
  },
  {
   "cell_type": "code",
   "execution_count": null,
   "metadata": {
    "id": "N20y0OhKwHRH"
   },
   "outputs": [],
   "source": [
    "PI"
   ]
  }
 ],
 "metadata": {
  "colab": {
   "provenance": []
  },
  "kernelspec": {
   "display_name": "Python 3",
   "name": "python3"
  },
  "language_info": {
   "codemirror_mode": {
    "name": "ipython",
    "version": 3
   },
   "file_extension": ".py",
   "mimetype": "text/x-python",
   "name": "python",
   "nbconvert_exporter": "python",
   "pygments_lexer": "ipython3",
   "version": "3.12.4"
  }
 },
 "nbformat": 4,
 "nbformat_minor": 0
}
