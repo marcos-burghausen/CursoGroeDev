{
 "cells": [
  {
   "cell_type": "markdown",
   "metadata": {},
   "source": [
    "![Growdev](https://www.growdev.com.br/assets/images/logo_growdev.png)"
   ]
  },
  {
   "cell_type": "markdown",
   "metadata": {},
   "source": [
    "# Estruturas de dados\n"
   ]
  },
  {
   "cell_type": "markdown",
   "metadata": {},
   "source": [
    "## Sets"
   ]
  },
  {
   "cell_type": "markdown",
   "metadata": {},
   "source": [
    "Conjuntos são estruturas de dados cujos elementos não se repetem. Podemos definí-los usando chaves."
   ]
  },
  {
   "cell_type": "code",
   "execution_count": 3,
   "metadata": {},
   "outputs": [],
   "source": [
    "conjunto_nomes1 = {'Luciana', 'Maria', 'Marcos'}\n",
    "conjunto_nomes2 = {'Flávia', 'Samara', 'Anderson'}"
   ]
  },
  {
   "cell_type": "code",
   "execution_count": 4,
   "metadata": {},
   "outputs": [],
   "source": [
    "# Podemos adicionar um elemento a um conjunto\n",
    "conjunto_nomes2.add('Marcos')"
   ]
  },
  {
   "cell_type": "code",
   "execution_count": 7,
   "metadata": {},
   "outputs": [
    {
     "data": {
      "text/plain": [
       "{'Anderson', 'Flávia', 'Marcos', 'Samara'}"
      ]
     },
     "execution_count": 7,
     "metadata": {},
     "output_type": "execute_result"
    }
   ],
   "source": [
    "conjunto_nomes2"
   ]
  },
  {
   "cell_type": "code",
   "execution_count": 8,
   "metadata": {},
   "outputs": [
    {
     "name": "stdout",
     "output_type": "stream",
     "text": [
      "{'Flávia', 'Samara', 'Anderson', 'Luciana', 'Maria', 'Marcos'}\n"
     ]
    }
   ],
   "source": [
    "# Podemos Unir os dois conjuntos\n",
    "conjunto_uniao = conjunto_nomes1.union(conjunto_nomes2)\n",
    "print(conjunto_uniao)"
   ]
  },
  {
   "cell_type": "markdown",
   "metadata": {},
   "source": [
    "**Atenção:**\n",
    "Note que tínhamos 2 marcos, um no conjunto 1 e outro no conjunto 2, agora só temos 1!\n",
    "Por que isso aconteceu?"
   ]
  },
  {
   "cell_type": "code",
   "execution_count": 9,
   "metadata": {},
   "outputs": [
    {
     "name": "stdout",
     "output_type": "stream",
     "text": [
      "{'Luciana', 'Maria'}\n"
     ]
    }
   ],
   "source": [
    "# Podemos subtrair conjuntos\n",
    "conjunto_subtracao = conjunto_nomes1.difference(conjunto_nomes2)\n",
    "print(conjunto_subtracao)"
   ]
  },
  {
   "cell_type": "markdown",
   "metadata": {},
   "source": [
    "Itens do conjunto 2 são removidos do conjunto 1."
   ]
  },
  {
   "cell_type": "code",
   "execution_count": 10,
   "metadata": {},
   "outputs": [
    {
     "name": "stdout",
     "output_type": "stream",
     "text": [
      "{'Marcos'}\n"
     ]
    }
   ],
   "source": [
    "# Podemos encontrar a intersecção dos conjuntos\n",
    "conjunto_interseccao = conjunto_nomes1.intersection(conjunto_nomes2)\n",
    "print(conjunto_interseccao)"
   ]
  }
 ],
 "metadata": {
  "kernelspec": {
   "display_name": "Python 3",
   "language": "python",
   "name": "python3"
  },
  "language_info": {
   "codemirror_mode": {
    "name": "ipython",
    "version": 3
   },
   "file_extension": ".py",
   "mimetype": "text/x-python",
   "name": "python",
   "nbconvert_exporter": "python",
   "pygments_lexer": "ipython3",
   "version": "3.12.4"
  }
 },
 "nbformat": 4,
 "nbformat_minor": 2
}
