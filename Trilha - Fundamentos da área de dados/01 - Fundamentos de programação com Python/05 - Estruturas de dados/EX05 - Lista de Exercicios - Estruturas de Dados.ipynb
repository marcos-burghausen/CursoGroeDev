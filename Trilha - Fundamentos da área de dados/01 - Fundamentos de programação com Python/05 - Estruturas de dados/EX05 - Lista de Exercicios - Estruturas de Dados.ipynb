{
 "cells": [
  {
   "cell_type": "markdown",
   "metadata": {},
   "source": [
    "![Growdev](https://www.growdev.com.br/assets/images/logo_growdev.png)"
   ]
  },
  {
   "cell_type": "markdown",
   "metadata": {},
   "source": [
    "Exercícios:"
   ]
  },
  {
   "cell_type": "markdown",
   "metadata": {},
   "source": [
    "1 - Crie uma lista com 5 números inteiros. Em seguida, escreva um programa que exiba:\n",
    "\n",
    "- O maior número da lista.\n",
    "- O menor número da lista.\n",
    "- A soma de todos os números da lista."
   ]
  },
  {
   "cell_type": "markdown",
   "metadata": {},
   "source": [
    "2 - Escreva um programa que solicite ao usuário 5 números e os adicione a um conjunto (set). No final, exiba todos os números, garantindo que não haja repetições."
   ]
  },
  {
   "cell_type": "markdown",
   "metadata": {},
   "source": [
    "3 - Crie uma tupla com o nome de 5 frutas. Escreva um programa que:\n",
    "\n",
    "- Imprima a tupla completa.\n",
    "- Imprima a fruta na primeira posição.\n",
    "- Verifique se a fruta \"banana\" está presente na tupla."
   ]
  },
  {
   "cell_type": "markdown",
   "metadata": {},
   "source": [
    "4 - Crie um dicionário que armazena o nome de 3 pessoas e suas idades. Escreva um programa que:\n",
    "\n",
    "- Imprima o dicionário completo.\n",
    "- Imprima apenas as idades.\n",
    "- Adicione uma nova pessoa e sua idade ao dicionário."
   ]
  }
 ],
 "metadata": {
  "kernelspec": {
   "display_name": "Python 3",
   "language": "python",
   "name": "python3"
  },
  "language_info": {
   "codemirror_mode": {
    "name": "ipython",
    "version": 3
   },
   "file_extension": ".py",
   "mimetype": "text/x-python",
   "name": "python",
   "nbconvert_exporter": "python",
   "pygments_lexer": "ipython3",
   "version": "3.12.4"
  }
 },
 "nbformat": 4,
 "nbformat_minor": 2
}
