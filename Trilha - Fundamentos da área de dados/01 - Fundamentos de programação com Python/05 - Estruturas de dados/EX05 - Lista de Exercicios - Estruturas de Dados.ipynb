{
 "cells": [
  {
   "cell_type": "markdown",
   "metadata": {},
   "source": [
    "![Growdev](https://www.growdev.com.br/assets/images/logo_growdev.png)"
   ]
  },
  {
   "cell_type": "markdown",
   "metadata": {},
   "source": [
    "Exercícios:"
   ]
  },
  {
   "cell_type": "markdown",
   "metadata": {},
   "source": [
    "1 - Crie uma lista com 5 números inteiros. Em seguida, escreva um programa que exiba:\n",
    "\n",
    "- O maior número da lista.\n",
    "- O menor número da lista.\n",
    "- A soma de todos os números da lista."
   ]
  },
  {
   "cell_type": "code",
   "execution_count": 3,
   "metadata": {},
   "outputs": [
    {
     "name": "stdout",
     "output_type": "stream",
     "text": [
      "O maior número da lista é: 5\n",
      "O menor número da lista é: 1\n",
      "A soam de todos os números da lista é: 15\n"
     ]
    }
   ],
   "source": [
    "lista = [1, 2, 3, 4, 5]\n",
    "print(f\"O maior número da lista é: {max(lista)}\")\n",
    "print(f\"O menor número da lista é: {min(lista)}\")\n",
    "print(f\"A soam de todos os números da lista é: {sum(lista)}\")"
   ]
  },
  {
   "cell_type": "markdown",
   "metadata": {},
   "source": [
    "2 - Escreva um programa que solicite ao usuário 5 números e os adicione a um conjunto (set). No final, exiba todos os números, garantindo que não haja repetições."
   ]
  },
  {
   "cell_type": "code",
   "execution_count": 36,
   "metadata": {},
   "outputs": [
    {
     "name": "stdout",
     "output_type": "stream",
     "text": [
      "{1, 2, 3}\n"
     ]
    }
   ],
   "source": [
    "conjunto = set()\n",
    "\n",
    "for numero in range(5):\n",
    "    numero_input = int(input(\"Digite um número: \"))\n",
    "    conjunto.add(numero_input)\n",
    "    \n",
    "print(conjunto)"
   ]
  },
  {
   "cell_type": "markdown",
   "metadata": {},
   "source": [
    "3 - Crie uma tupla com o nome de 5 frutas. Escreva um programa que:\n",
    "\n",
    "- Imprima a tupla completa.\n",
    "- Imprima a fruta na primeira posição.\n",
    "- Verifique se a fruta \"banana\" está presente na tupla."
   ]
  },
  {
   "cell_type": "code",
   "execution_count": null,
   "metadata": {},
   "outputs": [
    {
     "name": "stdout",
     "output_type": "stream",
     "text": [
      "('banana', 'maçã', 'uva', 'laranja', 'melancia')\n",
      "A fruta na primeira posição é: banana\n",
      "A fruta banana não está presente em frutas\n"
     ]
    }
   ],
   "source": [
    "frutas = (\"banana\", \"maçã\", \"uva\", \"laranja\", \"melancia\")\n",
    "print(frutas)\n",
    "print(f\"A fruta na primeira posição é: {frutas[0]}\")\n",
    "print(f\"A fruta banana {'está presente em frutas' if 'banana' in frutas else 'não está presente em frutas'}\")"
   ]
  },
  {
   "cell_type": "markdown",
   "metadata": {},
   "source": [
    "4 - Crie um dicionário que armazena o nome de 3 pessoas e suas idades. Escreva um programa que:\n",
    "\n",
    "- Imprima o dicionário completo.\n",
    "- Imprima apenas as idades.\n",
    "- Adicione uma nova pessoa e sua idade ao dicionário."
   ]
  },
  {
   "cell_type": "code",
   "execution_count": null,
   "metadata": {},
   "outputs": [
    {
     "name": "stdout",
     "output_type": "stream",
     "text": [
      "{'João': {'idade': 25}, 'Maria': {'idade': 30}, 'José': {'idade': 20}}\n",
      "dict_values([{'idade': 25}, {'idade': 30}, {'idade': 20}])\n",
      "idade: 25\n",
      "idade: 30\n",
      "idade: 20\n",
      "{'João': {'idade': 25}, 'Maria': {'idade': 30}, 'José': {'idade': 20}, 'Rafael': {'idade': 35}}\n"
     ]
    }
   ],
   "source": [
    "pessoas = {\n",
    "    'João': {\n",
    "        'idade': 25,\n",
    "    },\n",
    "    'Maria': {\n",
    "        'idade': 30,\n",
    "    },\n",
    "    'José': {\n",
    "        'idade': 20,\n",
    "    },\n",
    "}\n",
    "\n",
    "print(pessoas)\n",
    "\n",
    "print(pessoas.values())\n",
    "\n",
    "pessoas['Rafael'] = {\n",
    "    'idade': 35\n",
    "    }\n",
    "print(pessoas)"
   ]
  }
 ],
 "metadata": {
  "kernelspec": {
   "display_name": "Python 3",
   "language": "python",
   "name": "python3"
  },
  "language_info": {
   "codemirror_mode": {
    "name": "ipython",
    "version": 3
   },
   "file_extension": ".py",
   "mimetype": "text/x-python",
   "name": "python",
   "nbconvert_exporter": "python",
   "pygments_lexer": "ipython3",
   "version": "3.12.3"
  }
 },
 "nbformat": 4,
 "nbformat_minor": 2
}
