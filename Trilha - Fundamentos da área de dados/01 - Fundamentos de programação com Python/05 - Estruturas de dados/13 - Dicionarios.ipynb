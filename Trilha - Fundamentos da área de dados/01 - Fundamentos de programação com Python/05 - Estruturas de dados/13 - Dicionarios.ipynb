{
 "cells": [
  {
   "cell_type": "markdown",
   "metadata": {},
   "source": [
    "![Growdev](https://www.growdev.com.br/assets/images/logo_growdev.png)"
   ]
  },
  {
   "cell_type": "markdown",
   "metadata": {},
   "source": [
    "# Estruturas de dados\n"
   ]
  },
  {
   "cell_type": "markdown",
   "metadata": {},
   "source": [
    "## Dicionários"
   ]
  },
  {
   "cell_type": "markdown",
   "metadata": {},
   "source": [
    "Dicionários são estruturas constituídas de chave-valor. Assim como os conjuntos, não são ordenados, mas são mutáveis Para consultar os dados informamos as chaves."
   ]
  },
  {
   "cell_type": "markdown",
   "metadata": {},
   "source": [
    "\n",
    "<img src=\"https://www.learnbyexample.org/wp-content/uploads/python/Dictionary-Key-Value-Pairs-Illustration.png\">"
   ]
  },
  {
   "cell_type": "markdown",
   "metadata": {},
   "source": [
    "Para definir um dicionário, o método mais simples é utilizando chaves. As chaves do dicionário ficam do lado esquerdo e o valor do lado direito."
   ]
  },
  {
   "cell_type": "code",
   "execution_count": 1,
   "metadata": {},
   "outputs": [],
   "source": [
    "# Exemplo\n",
    "notas_alunos = {\n",
    "    \"Bruno\": 4.5,\n",
    "    \"Mauricio\": 8.7,\n",
    "    \"Jéssica\": 6.5,\n",
    "    \"Mariana\": 7.4\n",
    "}"
   ]
  },
  {
   "cell_type": "code",
   "execution_count": 3,
   "metadata": {},
   "outputs": [
    {
     "name": "stdout",
     "output_type": "stream",
     "text": [
      "4.5\n"
     ]
    }
   ],
   "source": [
    "# Para consultar o dicionário\n",
    "print(notas_alunos['Bruno'])"
   ]
  },
  {
   "cell_type": "code",
   "execution_count": 4,
   "metadata": {},
   "outputs": [
    {
     "name": "stdout",
     "output_type": "stream",
     "text": [
      "8.7\n"
     ]
    }
   ],
   "source": [
    "print(notas_alunos['Mauricio'])"
   ]
  },
  {
   "cell_type": "code",
   "execution_count": 2,
   "metadata": {},
   "outputs": [
    {
     "data": {
      "text/plain": [
       "dict_keys(['Bruno', 'Mauricio', 'Jéssica', 'Mariana'])"
      ]
     },
     "execution_count": 2,
     "metadata": {},
     "output_type": "execute_result"
    }
   ],
   "source": [
    "# Podemos consultar as chaves\n",
    "notas_alunos.keys()"
   ]
  },
  {
   "cell_type": "code",
   "execution_count": 5,
   "metadata": {},
   "outputs": [
    {
     "data": {
      "text/plain": [
       "dict_values([4.5, 8.7, 6.5, 7.4])"
      ]
     },
     "execution_count": 5,
     "metadata": {},
     "output_type": "execute_result"
    }
   ],
   "source": [
    "# Podemos consultar os valores\n",
    "notas_alunos.values()"
   ]
  },
  {
   "cell_type": "markdown",
   "metadata": {},
   "source": [
    "As estruturas de dados são formas de organizar e armazenar dados em Python:\n",
    "- **Listas:** são coleções ordenadas de elementos mutáveis.\n",
    "- **Tuplas:** são sequências imutáveis de elementos.\n",
    "- **Sets:** são coleções não ordenadas de elementos únicos.\n",
    "- **Dicionários:** são coleções associativas de pares chave-valor."
   ]
  },
  {
   "cell_type": "markdown",
   "metadata": {},
   "source": [
    "Características de cada uma dessas estruturas:\n",
    "- **Listas:** mutáveis, ordenadas, permitem elementos duplicados.\n",
    "- **Tuplas:** imutáveis, ordenadas, podem conter elementos de diferentes tipos.\n",
    "- **Sets:** mutáveis, não ordenados, não permitem elementos duplicados.\n",
    "- **Dicionários:** mutáveis, não ordenados, associam chaves a valores únicos."
   ]
  },
  {
   "cell_type": "markdown",
   "metadata": {},
   "source": [
    "Alguns dos métodos nós já vimos, porém existem outros:\n",
    "\n",
    "- **Listas:** [Métodos de Listas](https://www.w3schools.com/python/python_lists_methods.asp)\n",
    "- **Tuplas:** [Métodos de Tuplas](https://www.w3schools.com/python/python_ref_tuple.asp)\n",
    "- **Sets:** [Métodos de Sets](https://www.w3schools.com/python/python_ref_set.asp)\n",
    "- **Dicionários:** [Métodos de Dicionários](https://www.w3schools.com/python/python_ref_dictionary.asp)"
   ]
  }
 ],
 "metadata": {
  "kernelspec": {
   "display_name": "Python 3",
   "language": "python",
   "name": "python3"
  },
  "language_info": {
   "codemirror_mode": {
    "name": "ipython",
    "version": 3
   },
   "file_extension": ".py",
   "mimetype": "text/x-python",
   "name": "python",
   "nbconvert_exporter": "python",
   "pygments_lexer": "ipython3",
   "version": "3.12.3"
  }
 },
 "nbformat": 4,
 "nbformat_minor": 2
}
