{
 "cells": [
  {
   "cell_type": "markdown",
   "metadata": {},
   "source": [
    "![Growdev](https://www.growdev.com.br/assets/images/logo_growdev.png)"
   ]
  },
  {
   "cell_type": "markdown",
   "metadata": {},
   "source": [
    "Em algumas ocasiões necessitamos que algo aconteça, se uma determinada condição for atendida, ou algum evento aconteça.\n",
    "\n",
    "- SE (condição):\n",
    "- SE Não (execute)\n",
    "- CASO NÃO (execute)"
   ]
  },
  {
   "cell_type": "markdown",
   "metadata": {},
   "source": [
    "Por exemplo, imagine a média da nota de um aluno. Se a média for maior ou igual a 7, ele é aprovado, caso contrário, ele é reprovado."
   ]
  },
  {
   "cell_type": "code",
   "execution_count": 1,
   "metadata": {},
   "outputs": [
    {
     "name": "stdout",
     "output_type": "stream",
     "text": [
      "Aluno Aprovado!\n"
     ]
    }
   ],
   "source": [
    "media_aluno = 7.5\n",
    "\n",
    "# Se média maior ou igual a 7, então ele é aprovado\n",
    "if media_aluno >= 7: \n",
    "    print('Aluno Aprovado!')\n",
    "# Caso contrário, ele está reprovado\n",
    "else:\n",
    "    if media_aluno >= 6:\n",
    "        print('Aluno de complementar')\n",
    "    else:\n",
    "        ('Aluno reprovado')"
   ]
  },
  {
   "cell_type": "code",
   "execution_count": 3,
   "metadata": {},
   "outputs": [],
   "source": [
    "media_aluno = 3.5\n",
    "\n",
    "# Se média maior ou igual a 7, então ele é aprovado\n",
    "if media_aluno >= 7:\n",
    "    print('Aluno Aprovado!')\n",
    "\n",
    "# Caso contrário, se a média é maior ou iguala 5, ele vai pra recuperação\n",
    "elif media_aluno >= 5:\n",
    "    print('Aluno na Recuperação')\n",
    "\n",
    "elif media_aluno >= 4:\n",
    "    print('foi por pouco, se esforce mais')\n",
    "\n"
   ]
  }
 ],
 "metadata": {
  "kernelspec": {
   "display_name": ".venv",
   "language": "python",
   "name": "python3"
  },
  "language_info": {
   "codemirror_mode": {
    "name": "ipython",
    "version": 3
   },
   "file_extension": ".py",
   "mimetype": "text/x-python",
   "name": "python",
   "nbconvert_exporter": "python",
   "pygments_lexer": "ipython3",
   "version": "3.12.9"
  }
 },
 "nbformat": 4,
 "nbformat_minor": 2
}
