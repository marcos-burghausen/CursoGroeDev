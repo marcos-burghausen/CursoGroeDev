{
 "cells": [
  {
   "cell_type": "markdown",
   "metadata": {},
   "source": [
    "![Growdev](https://www.growdev.com.br/assets/images/logo_growdev.png)"
   ]
  },
  {
   "cell_type": "markdown",
   "metadata": {},
   "source": [
    "# Laços de Repetição\n"
   ]
  },
  {
   "cell_type": "markdown",
   "metadata": {},
   "source": [
    "For e Enumerate"
   ]
  },
  {
   "cell_type": "markdown",
   "metadata": {},
   "source": [
    "A função enumerate() retorna tanto o índice quanto o valor de cada elemento em uma sequência\n",
    "\n",
    "Sintaxe\n",
    "enumerate(elemento)"
   ]
  },
  {
   "cell_type": "code",
   "execution_count": 2,
   "metadata": {},
   "outputs": [
    {
     "name": "stdout",
     "output_type": "stream",
     "text": [
      "Índice: 0, Fruta: maçã\n",
      "Índice: 1, Fruta: banana\n",
      "Índice: 2, Fruta: laranja\n"
     ]
    }
   ],
   "source": [
    "frutas = [\"maçã\", \"banana\", \"laranja\"]\n",
    "for indice, fruta in enumerate(frutas):\n",
    "    print(f'Índice: {indice}, Fruta: {fruta}')"
   ]
  },
  {
   "cell_type": "code",
   "execution_count": 3,
   "metadata": {},
   "outputs": [
    {
     "name": "stdout",
     "output_type": "stream",
     "text": [
      "Índice: 0, Caractere: P\n",
      "Índice: 1, Caractere: y\n",
      "Índice: 2, Caractere: t\n",
      "Índice: 3, Caractere: h\n",
      "Índice: 4, Caractere: o\n",
      "Índice: 5, Caractere: n\n"
     ]
    }
   ],
   "source": [
    "# Também podemos utilizar o enumerate com uma string\n",
    "texto = \"Python\"\n",
    "for indice, caractere in enumerate(texto):\n",
    "    print(f'Índice: {indice}, Caractere: {caractere}')"
   ]
  }
 ],
 "metadata": {
  "kernelspec": {
   "display_name": "Python 3",
   "language": "python",
   "name": "python3"
  },
  "language_info": {
   "codemirror_mode": {
    "name": "ipython",
    "version": 3
   },
   "file_extension": ".py",
   "mimetype": "text/x-python",
   "name": "python",
   "nbconvert_exporter": "python",
   "pygments_lexer": "ipython3",
   "version": "3.12.4"
  }
 },
 "nbformat": 4,
 "nbformat_minor": 2
}
