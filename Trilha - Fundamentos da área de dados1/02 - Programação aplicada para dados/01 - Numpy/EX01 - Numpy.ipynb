{
 "cells": [
  {
   "cell_type": "markdown",
   "metadata": {},
   "source": [
    "# Exercícios Numpy"
   ]
  },
  {
   "cell_type": "code",
   "execution_count": 1,
   "metadata": {},
   "outputs": [],
   "source": [
    "import numpy as np"
   ]
  },
  {
   "cell_type": "markdown",
   "metadata": {},
   "source": [
    "Crie um array 3D com dimensões 3x4x5 contendo números aleatórios inteiros entre 0 e 50."
   ]
  },
  {
   "cell_type": "code",
   "execution_count": 2,
   "metadata": {},
   "outputs": [
    {
     "data": {
      "text/plain": [
       "array([[[26, 46, 43,  5, 43],\n",
       "        [ 8, 28, 25,  1, 47],\n",
       "        [39, 32, 44,  9, 16],\n",
       "        [43, 35,  0, 33, 47]],\n",
       "\n",
       "       [[13, 31, 19, 48, 21],\n",
       "        [19, 18, 10, 17,  7],\n",
       "        [43, 31, 22, 30, 32],\n",
       "        [13,  6, 33, 40, 15]],\n",
       "\n",
       "       [[32,  7, 17,  8, 25],\n",
       "        [22, 26, 21,  6, 48],\n",
       "        [ 0,  6, 39, 27,  8],\n",
       "        [ 3, 17, 20,  1, 23]]])"
      ]
     },
     "execution_count": 2,
     "metadata": {},
     "output_type": "execute_result"
    }
   ],
   "source": [
    "array = np.random.randint(0, 50, (3,4,5))\n",
    "array"
   ]
  },
  {
   "cell_type": "code",
   "execution_count": 3,
   "metadata": {},
   "outputs": [
    {
     "data": {
      "text/plain": [
       "(3, 4, 5)"
      ]
     },
     "execution_count": 3,
     "metadata": {},
     "output_type": "execute_result"
    }
   ],
   "source": [
    "array.shape"
   ]
  },
  {
   "cell_type": "markdown",
   "metadata": {},
   "source": [
    "Crie uma matriz 3x4 com valores aleatórios. Aplique a operação de flattening para converter a matriz em um array unidimensional. Em seguida, reorganize o array unidimensional em uma matriz 2x6."
   ]
  },
  {
   "cell_type": "code",
   "execution_count": 4,
   "metadata": {},
   "outputs": [
    {
     "data": {
      "text/plain": [
       "array([[6, 0, 4, 2],\n",
       "       [9, 0, 0, 0],\n",
       "       [7, 9, 1, 2]])"
      ]
     },
     "execution_count": 4,
     "metadata": {},
     "output_type": "execute_result"
    }
   ],
   "source": [
    "array = np.random.randint(0, 10, (3,4))\n",
    "array"
   ]
  },
  {
   "cell_type": "code",
   "execution_count": 5,
   "metadata": {},
   "outputs": [
    {
     "data": {
      "text/plain": [
       "array([6, 0, 4, 2, 9, 0, 0, 0, 7, 9, 1, 2])"
      ]
     },
     "execution_count": 5,
     "metadata": {},
     "output_type": "execute_result"
    }
   ],
   "source": [
    "array_flat = array.flatten()\n",
    "array_flat"
   ]
  },
  {
   "cell_type": "code",
   "execution_count": 7,
   "metadata": {},
   "outputs": [
    {
     "data": {
      "text/plain": [
       "array([[6, 0, 4, 2, 9, 0],\n",
       "       [0, 0, 7, 9, 1, 2]])"
      ]
     },
     "execution_count": 7,
     "metadata": {},
     "output_type": "execute_result"
    }
   ],
   "source": [
    "array_2d = array_flat.reshape((2,6))\n",
    "array_2d"
   ]
  },
  {
   "cell_type": "markdown",
   "metadata": {},
   "source": [
    "Crie um array 2D de dimensões 5x5 com valores inteiros aleatórios entre 1 e 20. Use a indexação booleana para substituir todos os valores maiores que 10 por 100."
   ]
  },
  {
   "cell_type": "code",
   "execution_count": 8,
   "metadata": {},
   "outputs": [
    {
     "data": {
      "text/plain": [
       "array([[16,  6,  1, 17,  9],\n",
       "       [14,  2, 12,  3, 13],\n",
       "       [14,  6,  1, 17, 17],\n",
       "       [14,  3,  7, 14, 16],\n",
       "       [ 9,  6,  8, 16, 19]])"
      ]
     },
     "execution_count": 8,
     "metadata": {},
     "output_type": "execute_result"
    }
   ],
   "source": [
    "array = np.random.randint(1, 20, (5,5))\n",
    "array"
   ]
  },
  {
   "cell_type": "code",
   "execution_count": 9,
   "metadata": {},
   "outputs": [
    {
     "data": {
      "text/plain": [
       "array([[100,   6,   1, 100,   9],\n",
       "       [100,   2, 100,   3, 100],\n",
       "       [100,   6,   1, 100, 100],\n",
       "       [100,   3,   7, 100, 100],\n",
       "       [  9,   6,   8, 100, 100]])"
      ]
     },
     "execution_count": 9,
     "metadata": {},
     "output_type": "execute_result"
    }
   ],
   "source": [
    "array_new = np.where(array>10, 100, array)\n",
    "array_new"
   ]
  },
  {
   "cell_type": "markdown",
   "metadata": {},
   "source": [
    "Crie dois arrays 2D de dimensões 3x3 com valores inteiros aleatórios entre 1 e 20. Combine esses dois arrays tanto verticalmente quanto horizontalmente usando vstack e hstack, respectivamente."
   ]
  },
  {
   "cell_type": "code",
   "execution_count": 10,
   "metadata": {},
   "outputs": [
    {
     "data": {
      "text/plain": [
       "array([[ 2,  7, 19],\n",
       "       [ 7,  7,  4],\n",
       "       [ 9, 10,  6]])"
      ]
     },
     "execution_count": 10,
     "metadata": {},
     "output_type": "execute_result"
    }
   ],
   "source": [
    "array1 = np.random.randint(1, 20, (3,3))\n",
    "array1"
   ]
  },
  {
   "cell_type": "code",
   "execution_count": 11,
   "metadata": {},
   "outputs": [
    {
     "data": {
      "text/plain": [
       "array([[ 8,  1,  5],\n",
       "       [ 9, 10,  2],\n",
       "       [ 6,  7,  9]])"
      ]
     },
     "execution_count": 11,
     "metadata": {},
     "output_type": "execute_result"
    }
   ],
   "source": [
    "array2 = np.random.randint(1, 20, (3,3))\n",
    "array2"
   ]
  },
  {
   "cell_type": "code",
   "execution_count": 12,
   "metadata": {},
   "outputs": [
    {
     "data": {
      "text/plain": [
       "array([[ 2,  7, 19],\n",
       "       [ 7,  7,  4],\n",
       "       [ 9, 10,  6],\n",
       "       [ 8,  1,  5],\n",
       "       [ 9, 10,  2],\n",
       "       [ 6,  7,  9]])"
      ]
     },
     "execution_count": 12,
     "metadata": {},
     "output_type": "execute_result"
    }
   ],
   "source": [
    "array_v = np.vstack((array1, array2))\n",
    "array_v"
   ]
  },
  {
   "cell_type": "code",
   "execution_count": 13,
   "metadata": {},
   "outputs": [
    {
     "data": {
      "text/plain": [
       "array([[ 8,  1,  5,  2,  7, 19],\n",
       "       [ 9, 10,  2,  7,  7,  4],\n",
       "       [ 6,  7,  9,  9, 10,  6]])"
      ]
     },
     "execution_count": 13,
     "metadata": {},
     "output_type": "execute_result"
    }
   ],
   "source": [
    "array_h = np.hstack((array2, array1))\n",
    "array_h"
   ]
  },
  {
   "cell_type": "markdown",
   "metadata": {},
   "source": [
    "Crie um array 1D de tamanho 10 com valores igualmente espaçados entre 0 e π. Aplique as funções sin, cos, e tan em cada elemento do array e exiba os resultados."
   ]
  },
  {
   "cell_type": "code",
   "execution_count": 14,
   "metadata": {},
   "outputs": [],
   "source": [
    "import math"
   ]
  },
  {
   "cell_type": "code",
   "execution_count": 15,
   "metadata": {},
   "outputs": [
    {
     "data": {
      "text/plain": [
       "array([0.        , 0.34906585, 0.6981317 , 1.04719755, 1.3962634 ,\n",
       "       1.74532925, 2.0943951 , 2.44346095, 2.7925268 , 3.14159265])"
      ]
     },
     "execution_count": 15,
     "metadata": {},
     "output_type": "execute_result"
    }
   ],
   "source": [
    "array = np.linspace(0, math.pi, 10)\n",
    "array"
   ]
  },
  {
   "cell_type": "code",
   "execution_count": 16,
   "metadata": {},
   "outputs": [
    {
     "data": {
      "text/plain": [
       "array([0.00000000e+00, 3.42020143e-01, 6.42787610e-01, 8.66025404e-01,\n",
       "       9.84807753e-01, 9.84807753e-01, 8.66025404e-01, 6.42787610e-01,\n",
       "       3.42020143e-01, 1.22464680e-16])"
      ]
     },
     "execution_count": 16,
     "metadata": {},
     "output_type": "execute_result"
    }
   ],
   "source": [
    "np.sin(array)"
   ]
  },
  {
   "cell_type": "code",
   "execution_count": 17,
   "metadata": {},
   "outputs": [
    {
     "data": {
      "text/plain": [
       "array([ 1.        ,  0.93969262,  0.76604444,  0.5       ,  0.17364818,\n",
       "       -0.17364818, -0.5       , -0.76604444, -0.93969262, -1.        ])"
      ]
     },
     "execution_count": 17,
     "metadata": {},
     "output_type": "execute_result"
    }
   ],
   "source": [
    "np.cos(array)"
   ]
  },
  {
   "cell_type": "code",
   "execution_count": 18,
   "metadata": {},
   "outputs": [
    {
     "data": {
      "text/plain": [
       "array([ 0.00000000e+00,  3.63970234e-01,  8.39099631e-01,  1.73205081e+00,\n",
       "        5.67128182e+00, -5.67128182e+00, -1.73205081e+00, -8.39099631e-01,\n",
       "       -3.63970234e-01, -1.22464680e-16])"
      ]
     },
     "execution_count": 18,
     "metadata": {},
     "output_type": "execute_result"
    }
   ],
   "source": [
    "np.tan(array)"
   ]
  }
 ],
 "metadata": {
  "kernelspec": {
   "display_name": "base",
   "language": "python",
   "name": "python3"
  },
  "language_info": {
   "codemirror_mode": {
    "name": "ipython",
    "version": 3
   },
   "file_extension": ".py",
   "mimetype": "text/x-python",
   "name": "python",
   "nbconvert_exporter": "python",
   "pygments_lexer": "ipython3",
   "version": "3.10.9"
  }
 },
 "nbformat": 4,
 "nbformat_minor": 2
}
