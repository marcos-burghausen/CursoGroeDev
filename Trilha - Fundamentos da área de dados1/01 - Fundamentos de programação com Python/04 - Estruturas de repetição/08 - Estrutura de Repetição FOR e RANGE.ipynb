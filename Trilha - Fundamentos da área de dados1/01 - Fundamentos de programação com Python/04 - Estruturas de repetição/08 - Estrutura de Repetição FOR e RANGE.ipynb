{
 "cells": [
  {
   "cell_type": "markdown",
   "metadata": {
    "id": "sYQUPyJ6YixR"
   },
   "source": [
    "![Growdev](https://www.growdev.com.br/assets/images/logo_growdev.png)"
   ]
  },
  {
   "cell_type": "markdown",
   "metadata": {
    "id": "l9kUs-n9YixT"
   },
   "source": [
    "# Laços de Repetição\n"
   ]
  },
  {
   "cell_type": "markdown",
   "metadata": {
    "id": "cqphnvASYixU"
   },
   "source": [
    "For e Range"
   ]
  },
  {
   "cell_type": "markdown",
   "metadata": {
    "id": "tsMN9CpaYixU"
   },
   "source": [
    "A função range() gera uma sequência de números de acordo com os parâmetros especificados\n",
    "\n",
    "Sintaxe\n",
    "range(start, stop, step)"
   ]
  },
  {
   "cell_type": "code",
   "execution_count": null,
   "metadata": {
    "id": "wRTG0mqlYixV"
   },
   "outputs": [
    {
     "ename": "",
     "evalue": "",
     "output_type": "error",
     "traceback": [
      "\u001b[1;31mRunning cells with 'Python 3.12.3' requires the ipykernel package.\n",
      "\u001b[1;31mRun the following command to install 'ipykernel' into the Python environment. \n",
      "\u001b[1;31mCommand: '/usr/bin/python3 -m pip install ipykernel -U --user --force-reinstall'"
     ]
    }
   ],
   "source": [
    "for i in range(1, 11, 2):\n",
    "    print(i)"
   ]
  },
  {
   "cell_type": "code",
   "execution_count": null,
   "metadata": {
    "id": "G2qPiQtgYixW"
   },
   "outputs": [],
   "source": [
    "# Sequência de 5 números iniciando no 0 e com step 1\n",
    "for i in range(5):\n",
    "    print(i)"
   ]
  },
  {
   "cell_type": "markdown",
   "metadata": {
    "id": "LMV4KQ7AYixX"
   },
   "source": [
    "Exemplo"
   ]
  },
  {
   "cell_type": "code",
   "execution_count": null,
   "metadata": {
    "id": "a4yJglBUYixX"
   },
   "outputs": [],
   "source": [
    "# Avaliando a aprovação de 5 alunos\n",
    "# Se média maior ou igual a 7, então ele é aprovado\n",
    "for i in range(5):\n",
    "    media_aluno = float(input('Informe a nota do aluno: '))\n",
    "    print(i)\n",
    "    if media_aluno >=7:\n",
    "        print('Aluno Aprovado!')\n",
    "    # Caso contrário, ele está reprovado\n",
    "    else:\n",
    "        print('Aluno Reprovado!')"
   ]
  },
  {
   "cell_type": "code",
   "execution_count": null,
   "metadata": {
    "id": "xdLM3qpqYixY"
   },
   "outputs": [],
   "source": [
    "for i in 'Fernando':\n",
    "    print(i)"
   ]
  },
  {
   "cell_type": "code",
   "execution_count": null,
   "metadata": {
    "id": "NSeZNCbyYixY"
   },
   "outputs": [],
   "source": [
    "lista_nomes = ['Fernando', 'Amanda', 'Sinara', 'Carlos']\n",
    "\n",
    "for nome in lista_nomes:\n",
    "    print(nome)\n",
    "    for letra in nome:\n",
    "        print(letra)"
   ]
  }
 ],
 "metadata": {
  "colab": {
   "provenance": []
  },
  "kernelspec": {
   "display_name": "Python 3",
   "language": "python",
   "name": "python3"
  },
  "language_info": {
   "codemirror_mode": {
    "name": "ipython",
    "version": 3
   },
   "file_extension": ".py",
   "mimetype": "text/x-python",
   "name": "python",
   "nbconvert_exporter": "python",
   "pygments_lexer": "ipython3",
   "version": "3.12.3"
  }
 },
 "nbformat": 4,
 "nbformat_minor": 0
}
