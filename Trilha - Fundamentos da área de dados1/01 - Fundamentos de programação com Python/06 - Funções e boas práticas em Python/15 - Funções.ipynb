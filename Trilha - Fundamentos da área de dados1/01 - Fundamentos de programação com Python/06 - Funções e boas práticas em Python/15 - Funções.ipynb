{
 "cells": [
  {
   "cell_type": "markdown",
   "metadata": {},
   "source": [
    "![Growdev](https://www.growdev.com.br/assets/images/logo_growdev.png)"
   ]
  },
  {
   "cell_type": "markdown",
   "metadata": {},
   "source": [
    "# Funções"
   ]
  },
  {
   "cell_type": "markdown",
   "metadata": {},
   "source": [
    "As funções são blocos de código reutilizáveis que realizam uma tarefa específica. Elas ajudam na modularização do código, tornando-o mais organizado e fácil de manter."
   ]
  },
  {
   "cell_type": "code",
   "execution_count": 3,
   "metadata": {},
   "outputs": [],
   "source": [
    "# Exemplo de definição de uma função simples\n",
    "def saudacao():\n",
    "    print(\"Olá, mundo!\")"
   ]
  },
  {
   "cell_type": "code",
   "execution_count": 4,
   "metadata": {},
   "outputs": [
    {
     "name": "stdout",
     "output_type": "stream",
     "text": [
      "Olá, mundo!\n"
     ]
    }
   ],
   "source": [
    "saudacao()"
   ]
  },
  {
   "cell_type": "markdown",
   "metadata": {},
   "source": [
    "## Parâmetros"
   ]
  },
  {
   "cell_type": "markdown",
   "metadata": {},
   "source": [
    "**Parâmetros normais:** São aqueles que você passa quando chama a função <br>\n",
    "**Parâmetros pré-definidos:** Têm um valor padrão e podem ser omitidos na chamada da função"
   ]
  },
  {
   "cell_type": "code",
   "execution_count": 6,
   "metadata": {},
   "outputs": [],
   "source": [
    "# Exemplo de função com parâmetro normal\n",
    "def saudacao(nome):\n",
    "    print(f\"Olá, {nome}\")"
   ]
  },
  {
   "cell_type": "code",
   "execution_count": 9,
   "metadata": {},
   "outputs": [
    {
     "name": "stdout",
     "output_type": "stream",
     "text": [
      "Olá, Alice\n"
     ]
    }
   ],
   "source": [
    "x = \"Alice\"\n",
    "saudacao(x)"
   ]
  },
  {
   "cell_type": "code",
   "execution_count": 10,
   "metadata": {},
   "outputs": [],
   "source": [
    "# Exemplo de função com parâmetro pré-definido\n",
    "def saudacao(nome=\"usuário\"):\n",
    "    print(f\"Olá, {nome}\")"
   ]
  },
  {
   "cell_type": "code",
   "execution_count": 11,
   "metadata": {},
   "outputs": [
    {
     "name": "stdout",
     "output_type": "stream",
     "text": [
      "Olá, usuário\n"
     ]
    }
   ],
   "source": [
    "saudacao()"
   ]
  },
  {
   "cell_type": "code",
   "execution_count": 12,
   "metadata": {},
   "outputs": [
    {
     "name": "stdout",
     "output_type": "stream",
     "text": [
      "Olá, Alice\n"
     ]
    }
   ],
   "source": [
    "saudacao(\"Alice\")"
   ]
  },
  {
   "cell_type": "markdown",
   "metadata": {},
   "source": [
    "## Retornos da Função"
   ]
  },
  {
   "cell_type": "markdown",
   "metadata": {},
   "source": [
    "As funções podem retornar valores para o código que as chamou. Podem retornar um único valor ou vários valores.\n",
    "\n"
   ]
  },
  {
   "cell_type": "code",
   "execution_count": 13,
   "metadata": {},
   "outputs": [],
   "source": [
    "# Exemplo de função com retorno simples\n",
    "def quadrado(x):\n",
    "    return x ** 2"
   ]
  },
  {
   "cell_type": "code",
   "execution_count": 14,
   "metadata": {},
   "outputs": [
    {
     "name": "stdout",
     "output_type": "stream",
     "text": [
      "Quadrado de 5: 25\n"
     ]
    }
   ],
   "source": [
    "resultado = quadrado(5)\n",
    "print(f\"Quadrado de 5: {resultado}\")"
   ]
  },
  {
   "cell_type": "code",
   "execution_count": 15,
   "metadata": {},
   "outputs": [],
   "source": [
    "# Exemplo de função com retorno múltiplo\n",
    "def soma_e_multiplicacao(vl_1, vl_2):\n",
    "    soma = vl_1 + vl_2\n",
    "    multiplicacao = vl_1 * vl_2\n",
    "    return soma, multiplicacao"
   ]
  },
  {
   "cell_type": "code",
   "execution_count": 16,
   "metadata": {},
   "outputs": [
    {
     "name": "stdout",
     "output_type": "stream",
     "text": [
      "soma: 13\n",
      "multiplicacao: 30\n"
     ]
    }
   ],
   "source": [
    "s, m = soma_e_multiplicacao(10, 3)\n",
    "print(f\"soma: {s}\")\n",
    "print(f\"multiplicacao: {m}\")"
   ]
  },
  {
   "cell_type": "markdown",
   "metadata": {},
   "source": [
    "E se a gente não passar um retorno?"
   ]
  },
  {
   "cell_type": "code",
   "execution_count": 19,
   "metadata": {},
   "outputs": [],
   "source": [
    "def quadrado(x):\n",
    "    num_quadrado = x ** 2\n",
    "    return num_quadrado"
   ]
  },
  {
   "cell_type": "code",
   "execution_count": 20,
   "metadata": {},
   "outputs": [
    {
     "name": "stdout",
     "output_type": "stream",
     "text": [
      "Quadrado de 5: 25\n"
     ]
    }
   ],
   "source": [
    "resultado = quadrado(5)\n",
    "print(f\"Quadrado de 5: {resultado}\")"
   ]
  },
  {
   "cell_type": "markdown",
   "metadata": {},
   "source": [
    "## Escopo Local e Escopo Global"
   ]
  },
  {
   "cell_type": "markdown",
   "metadata": {},
   "source": [
    "**Escopo local:** refere-se às variáveis definidas dentro de uma função, que só podem ser acessadas dentro dela. <br>\n",
    "**Escopo global:** refere-se às variáveis definidas fora de todas as funções, que podem ser acessadas de qualquer lugar do código."
   ]
  },
  {
   "cell_type": "code",
   "execution_count": 22,
   "metadata": {},
   "outputs": [],
   "source": [
    "# Exemplo de variável global\n",
    "x = 10"
   ]
  },
  {
   "cell_type": "code",
   "execution_count": 23,
   "metadata": {},
   "outputs": [],
   "source": [
    "def minha_funcao():\n",
    "    y = 20  # Variável local\n",
    "    print(\"Variável local y:\", y)\n",
    "    print(\"Variável global x:\", x)"
   ]
  },
  {
   "cell_type": "code",
   "execution_count": 24,
   "metadata": {},
   "outputs": [
    {
     "name": "stdout",
     "output_type": "stream",
     "text": [
      "Variável local y: 20\n",
      "Variável global x: 10\n"
     ]
    }
   ],
   "source": [
    "minha_funcao()"
   ]
  },
  {
   "cell_type": "code",
   "execution_count": 25,
   "metadata": {},
   "outputs": [
    {
     "name": "stdout",
     "output_type": "stream",
     "text": [
      "Variável global x fora da função: 10\n"
     ]
    }
   ],
   "source": [
    "print(\"Variável global x fora da função:\", x)"
   ]
  },
  {
   "cell_type": "code",
   "execution_count": 26,
   "metadata": {},
   "outputs": [
    {
     "ename": "NameError",
     "evalue": "name 'y' is not defined",
     "output_type": "error",
     "traceback": [
      "\u001b[1;31m---------------------------------------------------------------------------\u001b[0m",
      "\u001b[1;31mNameError\u001b[0m                                 Traceback (most recent call last)",
      "Cell \u001b[1;32mIn[26], line 1\u001b[0m\n\u001b[1;32m----> 1\u001b[0m \u001b[38;5;28mprint\u001b[39m(\u001b[38;5;124m\"\u001b[39m\u001b[38;5;124mVariável local y fora da função:\u001b[39m\u001b[38;5;124m\"\u001b[39m, \u001b[43my\u001b[49m)\n\u001b[0;32m      2\u001b[0m \u001b[38;5;66;03m# Isso resulta em um erro\u001b[39;00m\n\u001b[0;32m      3\u001b[0m \u001b[38;5;66;03m# Não podemos acessar uma variável local fora da função\u001b[39;00m\n\u001b[0;32m      4\u001b[0m \u001b[38;5;66;03m# Essa variável só existe na função minha_funcao()\u001b[39;00m\n",
      "\u001b[1;31mNameError\u001b[0m: name 'y' is not defined"
     ]
    }
   ],
   "source": [
    "print(\"Variável local y fora da função:\", y)\n",
    "# Isso resulta em um erro\n",
    "# Não podemos acessar uma variável local fora da função\n",
    "# Essa variável só existe na função minha_funcao()"
   ]
  }
 ],
 "metadata": {
  "kernelspec": {
   "display_name": "Python 3",
   "language": "python",
   "name": "python3"
  },
  "language_info": {
   "codemirror_mode": {
    "name": "ipython",
    "version": 3
   },
   "file_extension": ".py",
   "mimetype": "text/x-python",
   "name": "python",
   "nbconvert_exporter": "python",
   "pygments_lexer": "ipython3",
   "version": "3.12.4"
  }
 },
 "nbformat": 4,
 "nbformat_minor": 2
}
