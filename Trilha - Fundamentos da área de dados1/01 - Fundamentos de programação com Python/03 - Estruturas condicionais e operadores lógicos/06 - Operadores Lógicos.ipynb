{
 "cells": [
  {
   "cell_type": "markdown",
   "metadata": {},
   "source": [
    "![Growdev](https://www.growdev.com.br/assets/images/logo_growdev.png)"
   ]
  },
  {
   "cell_type": "markdown",
   "metadata": {},
   "source": [
    "Operadores Lógicos"
   ]
  },
  {
   "cell_type": "markdown",
   "metadata": {},
   "source": [
    "Em Python, os operadores lógicos são: AND (e), OR (ou), NOT (não)"
   ]
  },
  {
   "cell_type": "markdown",
   "metadata": {},
   "source": [
    "- Quando usamos AND, esperamos que todas sejam verdadeiras.\n",
    "- Quando usamos o OR, precisamos que pelo menos uma condição seja verdadeira.\n",
    "- Quando usamos o NOT, alteramos o sentido, ou seja, True vira False e False vira True"
   ]
  },
  {
   "cell_type": "code",
   "execution_count": 1,
   "metadata": {},
   "outputs": [],
   "source": [
    "idade1 = 20\n",
    "idade2 = 15\n",
    "idade3 = 10"
   ]
  },
  {
   "cell_type": "code",
   "execution_count": 3,
   "metadata": {},
   "outputs": [
    {
     "name": "stdout",
     "output_type": "stream",
     "text": [
      "Idade1 é maior a maior idade\n"
     ]
    }
   ],
   "source": [
    "# Operador and\n",
    "\n",
    "if idade1 > idade2 and idade1 > idade3:\n",
    "    print('Idade1 é a maior idade')\n",
    "else:\n",
    "    print(False)"
   ]
  },
  {
   "cell_type": "code",
   "execution_count": 6,
   "metadata": {},
   "outputs": [
    {
     "name": "stdout",
     "output_type": "stream",
     "text": [
      "False\n"
     ]
    }
   ],
   "source": [
    "# Operador or\n",
    "if idade1 < idade2 or idade1 < idade3:\n",
    "    print('idade1 é maior que idade2 ou idade1 é menor que idade3')\n",
    "else:\n",
    "    print(False)"
   ]
  },
  {
   "cell_type": "code",
   "execution_count": 8,
   "metadata": {},
   "outputs": [
    {
     "name": "stdout",
     "output_type": "stream",
     "text": [
      "Letra S não esta em Fernando\n"
     ]
    }
   ],
   "source": [
    "nome = 'Fernando'\n",
    "\n",
    "if 'S' not in nome:\n",
    "    print('Letra S não esta em', nome)\n",
    "else:\n",
    "    print('Letra S esta em', nome)"
   ]
  }
 ],
 "metadata": {
  "kernelspec": {
   "display_name": "Python 3",
   "language": "python",
   "name": "python3"
  },
  "language_info": {
   "codemirror_mode": {
    "name": "ipython",
    "version": 3
   },
   "file_extension": ".py",
   "mimetype": "text/x-python",
   "name": "python",
   "nbconvert_exporter": "python",
   "pygments_lexer": "ipython3",
   "version": "3.12.4"
  }
 },
 "nbformat": 4,
 "nbformat_minor": 2
}
