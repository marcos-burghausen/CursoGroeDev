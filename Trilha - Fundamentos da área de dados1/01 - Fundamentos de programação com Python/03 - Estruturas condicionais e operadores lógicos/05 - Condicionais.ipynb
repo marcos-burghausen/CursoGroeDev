{
 "cells": [
  {
   "cell_type": "markdown",
   "metadata": {},
   "source": [
    "![Growdev](https://www.growdev.com.br/assets/images/logo_growdev.png)"
   ]
  },
  {
   "cell_type": "markdown",
   "metadata": {},
   "source": [
    "Em algumas ocasiões necessitamos que algo aconteça, se uma determinada condição for atendida, ou algum evento aconteça.\n",
    "\n",
    "- SE (condição):\n",
    "- SE Não (execute)\n",
    "- CASO NÃO (execute)"
   ]
  },
  {
   "cell_type": "markdown",
   "metadata": {},
   "source": [
    "Por exemplo, imagine a média da nota de um aluno. Se a média for maior ou igual a 7, ele é aprovado, caso contrário, ele é reprovado."
   ]
  },
  {
   "cell_type": "code",
   "execution_count": null,
   "metadata": {},
   "outputs": [
    {
     "ename": "",
     "evalue": "",
     "output_type": "error",
     "traceback": [
      "\u001b[1;31mRunning cells with 'Python 3.12.3' requires the ipykernel package.\n",
      "\u001b[1;31mRun the following command to install 'ipykernel' into the Python environment. \n",
      "\u001b[1;31mCommand: '/usr/bin/python3 -m pip install ipykernel -U --user --force-reinstall'"
     ]
    }
   ],
   "source": [
    "media_aluno = 7.5\n",
    "\n",
    "# Se média maior ou igual a 7, então ele é aprovado\n",
    "if media_aluno >= 7: \n",
    "    print('Aluno Aprovado!')\n",
    "# Caso contrário, ele está reprovado\n",
    "else:\n",
    "    if media_aluno >= 6:\n",
    "        print('Aluno de complementar')\n",
    "    else:\n",
    "        ('Aluno reprovado')"
   ]
  },
  {
   "cell_type": "code",
   "execution_count": null,
   "metadata": {},
   "outputs": [
    {
     "ename": "",
     "evalue": "",
     "output_type": "error",
     "traceback": [
      "\u001b[1;31mRunning cells with 'Python 3.12.3' requires the ipykernel package.\n",
      "\u001b[1;31mRun the following command to install 'ipykernel' into the Python environment. \n",
      "\u001b[1;31mCommand: '/usr/bin/python3 -m pip install ipykernel -U --user --force-reinstall'"
     ]
    }
   ],
   "source": [
    "media_aluno = 3.5\n",
    "\n",
    "# Se média maior ou igual a 7, então ele é aprovado\n",
    "if media_aluno >= 7:\n",
    "    print('Aluno Aprovado!')\n",
    "\n",
    "# Caso contrário, se a média é maior ou iguala 5, ele vai pra recuperação\n",
    "elif media_aluno >= 5:\n",
    "    print('Aluno na Recuperação')\n",
    "\n",
    "elif media_aluno >= 4:\n",
    "    print('foi por pouco, se esforce mais')\n",
    "\n"
   ]
  }
 ],
 "metadata": {
  "kernelspec": {
   "display_name": "Python 3",
   "language": "python",
   "name": "python3"
  },
  "language_info": {
   "codemirror_mode": {
    "name": "ipython",
    "version": 3
   },
   "file_extension": ".py",
   "mimetype": "text/x-python",
   "name": "python",
   "nbconvert_exporter": "python",
   "pygments_lexer": "ipython3",
   "version": "3.12.3"
  }
 },
 "nbformat": 4,
 "nbformat_minor": 2
}
