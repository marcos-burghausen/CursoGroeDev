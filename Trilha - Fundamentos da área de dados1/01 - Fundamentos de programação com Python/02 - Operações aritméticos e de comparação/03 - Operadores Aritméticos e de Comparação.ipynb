{
 "cells": [
  {
   "cell_type": "markdown",
   "metadata": {
    "id": "SSgz6T2TTxtT"
   },
   "source": [
    "![Growdev](https://www.growdev.com.br/assets/images/logo_growdev.png)"
   ]
  },
  {
   "cell_type": "markdown",
   "metadata": {
    "id": "0wDtultqTxtV"
   },
   "source": [
    "# Operadores Matemáticos e de Comparação\n"
   ]
  },
  {
   "cell_type": "markdown",
   "metadata": {
    "id": "V2YnHR1NTxtW"
   },
   "source": [
    "## Operadores Matemáticos"
   ]
  },
  {
   "cell_type": "markdown",
   "metadata": {
    "id": "ePHNiv-ATxtX"
   },
   "source": [
    "Os operadores matemáticos básicos em Python são:\n",
    "- `+` (adição)\n",
    "- `-` (subtração)\n",
    "- `*` (multiplicação)\n",
    "- `/` (divisão)\n",
    "- `//` (divisão inteira)\n",
    "- `%` (operador resto)\n",
    "- `**` (exponenciação)"
   ]
  },
  {
   "cell_type": "markdown",
   "metadata": {
    "id": "-e32BHSwTxtY"
   },
   "source": [
    "Ordem de execução:\n",
    "- Parênteses\n",
    "- Multiplicação e Divisão\n",
    "- Adição e Subtração"
   ]
  },
  {
   "cell_type": "code",
   "execution_count": 2,
   "metadata": {
    "id": "LhB5ClaoTxtY",
    "outputId": "01e43844-e9ea-46c9-aea8-8de5f8546234"
   },
   "outputs": [
    {
     "data": {
      "text/plain": [
       "3.0"
      ]
     },
     "execution_count": 2,
     "metadata": {},
     "output_type": "execute_result"
    }
   ],
   "source": [
    "# Qual resultado da expressão abaixo?\n",
    "1 + 3 * 4 / 3 - 2"
   ]
  },
  {
   "cell_type": "code",
   "execution_count": 3,
   "metadata": {
    "id": "iRaixUT6TxtZ",
    "outputId": "62802309-63ee-456c-832b-84fd725920cf"
   },
   "outputs": [
    {
     "data": {
      "text/plain": [
       "16.0"
      ]
     },
     "execution_count": 3,
     "metadata": {},
     "output_type": "execute_result"
    }
   ],
   "source": [
    "# Qual resultado da expressão abaixo?\n",
    "(1 + 3) * 4 / (3 - 2)"
   ]
  },
  {
   "cell_type": "code",
   "execution_count": 4,
   "metadata": {
    "id": "NriwEcNITxta",
    "outputId": "1f29eccf-78a7-49f6-f392-b3ab3449bac5"
   },
   "outputs": [
    {
     "data": {
      "text/plain": [
       "3"
      ]
     },
     "execution_count": 4,
     "metadata": {},
     "output_type": "execute_result"
    }
   ],
   "source": [
    "# Operador Resto\n",
    "19%8"
   ]
  },
  {
   "cell_type": "code",
   "execution_count": 5,
   "metadata": {
    "id": "9AzJOGNzTxtb",
    "outputId": "c1b0039e-0213-4549-8101-75d3bf3010df"
   },
   "outputs": [
    {
     "data": {
      "text/plain": [
       "4.0"
      ]
     },
     "execution_count": 5,
     "metadata": {},
     "output_type": "execute_result"
    }
   ],
   "source": [
    "# Parte inteira da divisão\n",
    "20//4.5"
   ]
  },
  {
   "cell_type": "code",
   "execution_count": 6,
   "metadata": {
    "id": "t4BmG0HITxtb",
    "outputId": "dc3a12fc-97ca-4701-8327-f33445907108"
   },
   "outputs": [
    {
     "data": {
      "text/plain": [
       "4.444444444444445"
      ]
     },
     "execution_count": 6,
     "metadata": {},
     "output_type": "execute_result"
    }
   ],
   "source": [
    "# O resultado da divisão seria\n",
    "20/4.5"
   ]
  },
  {
   "cell_type": "markdown",
   "metadata": {
    "id": "-qI9XqClTxtb"
   },
   "source": [
    "![Área do Círculo](https://www.onlinemathlearning.com/image-files/area-of-circle.png)"
   ]
  },
  {
   "cell_type": "code",
   "execution_count": 7,
   "metadata": {
    "id": "y1JR49VpTxtc",
    "outputId": "9fcea87c-c30d-4e45-97e5-883e5a1acf14"
   },
   "outputs": [
    {
     "name": "stdout",
     "output_type": "stream",
     "text": [
      "12.56\n"
     ]
    }
   ],
   "source": [
    "# Área do Círculo\n",
    "PI = 3.14\n",
    "raio = 2\n",
    "area = PI * (raio ** 2)# utilizamos o ** para potenciação\n",
    "print(area)"
   ]
  },
  {
   "cell_type": "markdown",
   "metadata": {
    "id": "OrRuf2LDTxtc"
   },
   "source": [
    "## Operadores de Comparação"
   ]
  },
  {
   "cell_type": "markdown",
   "metadata": {
    "id": "ONZZcinHTxtc"
   },
   "source": [
    "Usamos os comparadores para comparar os valores de diferentes variáveis (mas não necessariamente precisa ser uma variável)"
   ]
  },
  {
   "cell_type": "markdown",
   "metadata": {
    "id": "Wb3MoJi4Txtc"
   },
   "source": [
    "Operadores mais importantes:\n",
    "\n",
    "- A == B (vamos verificar se A é igual a B)\n",
    "- A > B (vamos verificar se A é maior que B)\n",
    "- A < B (vamos verificar se B é maior que A)\n",
    "- A >= B (vamos verificar se A é maior ou igual a B)\n",
    "- A != B (Vamos verificar se A é diferente de B)"
   ]
  },
  {
   "cell_type": "code",
   "execution_count": 8,
   "metadata": {
    "id": "BcSYzCjoTxtd"
   },
   "outputs": [],
   "source": [
    "num1 = 3\n",
    "num2 = 4"
   ]
  },
  {
   "cell_type": "code",
   "execution_count": 9,
   "metadata": {
    "id": "EHdI6vR3Txtd"
   },
   "outputs": [],
   "source": [
    "resultado_comparacao = num1 == num2"
   ]
  },
  {
   "cell_type": "code",
   "execution_count": 10,
   "metadata": {
    "id": "ia1wcdODTxtd",
    "outputId": "4604fd5a-c15f-4416-9a95-1627ebd22750"
   },
   "outputs": [
    {
     "data": {
      "text/plain": [
       "False"
      ]
     },
     "execution_count": 10,
     "metadata": {},
     "output_type": "execute_result"
    }
   ],
   "source": [
    "num1 > num2"
   ]
  },
  {
   "cell_type": "code",
   "execution_count": 11,
   "metadata": {
    "id": "cgI3vfJETxtd",
    "outputId": "3618f7ac-1014-40c2-f3e4-f4e76fcd2d55"
   },
   "outputs": [
    {
     "data": {
      "text/plain": [
       "True"
      ]
     },
     "execution_count": 11,
     "metadata": {},
     "output_type": "execute_result"
    }
   ],
   "source": [
    "num1 < num2"
   ]
  },
  {
   "cell_type": "code",
   "execution_count": 12,
   "metadata": {
    "id": "ZlR9FCq-Txtd",
    "outputId": "d0215f69-cf57-44b6-ad7d-701abdf5c06f"
   },
   "outputs": [
    {
     "data": {
      "text/plain": [
       "True"
      ]
     },
     "execution_count": 12,
     "metadata": {},
     "output_type": "execute_result"
    }
   ],
   "source": [
    "num1 <= num2"
   ]
  },
  {
   "cell_type": "code",
   "execution_count": 13,
   "metadata": {
    "id": "QKzfUIWZTxte",
    "outputId": "f29de3d7-5c97-40c5-b8e7-93a7b8aff3e2"
   },
   "outputs": [
    {
     "data": {
      "text/plain": [
       "False"
      ]
     },
     "execution_count": 13,
     "metadata": {},
     "output_type": "execute_result"
    }
   ],
   "source": [
    "num1 >= num2"
   ]
  },
  {
   "cell_type": "code",
   "execution_count": 14,
   "metadata": {
    "id": "PoCqpf8nTxte",
    "outputId": "627734b9-d3c6-4a4b-d3d6-27eded839816"
   },
   "outputs": [
    {
     "data": {
      "text/plain": [
       "True"
      ]
     },
     "execution_count": 14,
     "metadata": {},
     "output_type": "execute_result"
    }
   ],
   "source": [
    "num1 != num2"
   ]
  },
  {
   "cell_type": "code",
   "execution_count": 15,
   "metadata": {
    "id": "gMnd7CaoTxte",
    "outputId": "75f8d1fb-ff52-43c7-95cc-e047908f925d"
   },
   "outputs": [
    {
     "data": {
      "text/plain": [
       "False"
      ]
     },
     "execution_count": 15,
     "metadata": {},
     "output_type": "execute_result"
    }
   ],
   "source": [
    "'hello' == 'hell'"
   ]
  },
  {
   "cell_type": "code",
   "execution_count": 16,
   "metadata": {
    "id": "10DFDgSSTxte",
    "outputId": "21fb6172-32dc-46c6-f380-89f25999b695"
   },
   "outputs": [
    {
     "data": {
      "text/plain": [
       "True"
      ]
     },
     "execution_count": 16,
     "metadata": {},
     "output_type": "execute_result"
    }
   ],
   "source": [
    "'dog' != 'cat'"
   ]
  },
  {
   "cell_type": "code",
   "execution_count": 17,
   "metadata": {
    "id": "jRbMcjeOTxte",
    "outputId": "518ad1c8-5ab7-4751-ef7d-b4b6f028c342"
   },
   "outputs": [
    {
     "data": {
      "text/plain": [
       "False"
      ]
     },
     "execution_count": 17,
     "metadata": {},
     "output_type": "execute_result"
    }
   ],
   "source": [
    "42 == '42'"
   ]
  },
  {
   "cell_type": "code",
   "execution_count": 18,
   "metadata": {
    "id": "dxXGGZU4Txtf",
    "outputId": "2db171db-cd76-4fee-cdac-0dc606393bc0"
   },
   "outputs": [
    {
     "data": {
      "text/plain": [
       "3"
      ]
     },
     "execution_count": 18,
     "metadata": {},
     "output_type": "execute_result"
    }
   ],
   "source": [
    "num1"
   ]
  },
  {
   "cell_type": "code",
   "execution_count": 19,
   "metadata": {
    "id": "KDm7Pa1HTxtf",
    "outputId": "7afce30a-1140-44ad-f822-edf1c8eb7637"
   },
   "outputs": [
    {
     "data": {
      "text/plain": [
       "True"
      ]
     },
     "execution_count": 19,
     "metadata": {},
     "output_type": "execute_result"
    }
   ],
   "source": [
    "num1 > 1"
   ]
  }
 ],
 "metadata": {
  "colab": {
   "provenance": []
  },
  "kernelspec": {
   "display_name": "Python 3",
   "language": "python",
   "name": "python3"
  },
  "language_info": {
   "codemirror_mode": {
    "name": "ipython",
    "version": 3
   },
   "file_extension": ".py",
   "mimetype": "text/x-python",
   "name": "python",
   "nbconvert_exporter": "python",
   "pygments_lexer": "ipython3",
   "version": "3.13.1"
  }
 },
 "nbformat": 4,
 "nbformat_minor": 0
}
