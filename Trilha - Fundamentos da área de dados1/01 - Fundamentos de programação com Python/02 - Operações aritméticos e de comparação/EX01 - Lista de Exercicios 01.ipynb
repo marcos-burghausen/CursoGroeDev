{
 "cells": [
  {
   "cell_type": "markdown",
   "metadata": {},
   "source": [
    "![Growdev](https://www.growdev.com.br/assets/images/logo_growdev.png)"
   ]
  },
  {
   "cell_type": "markdown",
   "metadata": {},
   "source": [
    "Exercícios:"
   ]
  },
  {
   "cell_type": "markdown",
   "metadata": {},
   "source": [
    "1 - Crie um programa que solicita ao usuario o imput de dois valores.\n",
    "Após, calcule e exiba os calculos de\n",
    "- soma\n",
    "- subtração\n",
    "- multiplicação\n",
    "- divisão\n",
    "- resto"
   ]
  },
  {
   "cell_type": "code",
   "execution_count": 2,
   "metadata": {},
   "outputs": [
    {
     "name": "stdout",
     "output_type": "stream",
     "text": [
      "A soma dos valores é: 9\n",
      "A subtração dos valores é: -1\n",
      "A multiplicação dos valores é: 20\n",
      "A divisão dos valores é: 0.8\n",
      "O resto da divisão dos dois valores é: 4\n"
     ]
    }
   ],
   "source": [
    "valor_1 = int(input(\"Digite o primeiro valor: \"))\n",
    "valor_2 = int(input(\"Digite o segundo valor: \"))\n",
    "print(f\"A soma dos valores é: {valor_1 + valor_2}\")\n",
    "print(f\"A subtração dos valores é: {valor_1 - valor_2}\")\n",
    "print(f\"A multiplicação dos valores é: {valor_1 * valor_2}\")\n",
    "print(f\"A divisão dos valores é: {valor_1 / valor_2}\")\n",
    "print(f\"O resto da divisão dos dois valores é: {valor_1 % valor_2}\")"
   ]
  },
  {
   "cell_type": "markdown",
   "metadata": {},
   "source": [
    "2 - Conversão de graus Celsius para Fahrenheit – Crie um programa que converta graus Celsius em Fahrenheit. A fórmula é a seguinte:\n",
    "\n",
    "- F = (9 / 5) * C + 32\n",
    "      \n",
    "\n",
    "O programa deve solicitar ao usuário que insira uma temperatura em graus Celsius e, em seguida, exiba a temperatura convertida em Fahrenheit. Após construir esse programa, modifique-o para que converta graus Fahrenheit em graus Celsius.\n"
   ]
  },
  {
   "cell_type": "markdown",
   "metadata": {},
   "source": [
    "Algoritmo para Fahrenheit\n",
    "- F = (9 / 5) * C + 32"
   ]
  },
  {
   "cell_type": "code",
   "execution_count": 8,
   "metadata": {},
   "outputs": [
    {
     "name": "stdout",
     "output_type": "stream",
     "text": [
      "25.0°C é igual a 77.0°F\n"
     ]
    }
   ],
   "source": [
    "tempetura_celsius = float(input(\"Digite a temperatura em Celsius: \"))\n",
    "temperatura_farenheit = (9/5) * tempetura_celsius + 32\n",
    "print(f\"{tempetura_celsius}°C é igual a {temperatura_farenheit}°F\")"
   ]
  },
  {
   "cell_type": "markdown",
   "metadata": {},
   "source": [
    "Algoritmo para Celsius\n",
    "- C = (F - 32)  * 5 / 9"
   ]
  },
  {
   "cell_type": "code",
   "execution_count": 10,
   "metadata": {},
   "outputs": [
    {
     "name": "stdout",
     "output_type": "stream",
     "text": [
      "77.0°F é igual a 25.0°C\n"
     ]
    }
   ],
   "source": [
    "tempetura_celsius = (temperatura_farenheit - 32) * 5/9\n",
    "print(f\"{temperatura_farenheit}°F é igual a {tempetura_celsius}°C\")"
   ]
  }
 ],
 "metadata": {
  "kernelspec": {
   "display_name": "Python 3",
   "language": "python",
   "name": "python3"
  },
  "language_info": {
   "codemirror_mode": {
    "name": "ipython",
    "version": 3
   },
   "file_extension": ".py",
   "mimetype": "text/x-python",
   "name": "python",
   "nbconvert_exporter": "python",
   "pygments_lexer": "ipython3",
   "version": "3.13.1"
  }
 },
 "nbformat": 4,
 "nbformat_minor": 2
}
